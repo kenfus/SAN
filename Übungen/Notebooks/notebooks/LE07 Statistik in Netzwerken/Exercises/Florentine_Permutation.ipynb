{
 "cells": [
  {
   "cell_type": "code",
   "execution_count": 1,
   "metadata": {},
   "outputs": [],
   "source": [
    "import numpy as np\n",
    "import networkx as nx\n",
    "import pandas as pd\n",
    "\n",
    "import matplotlib.pyplot as plt\n",
    "%matplotlib inline"
   ]
  },
  {
   "cell_type": "markdown",
   "metadata": {},
   "source": [
    "## Use Sample Florentine networkx included in networkx"
   ]
  },
  {
   "cell_type": "code",
   "execution_count": 2,
   "metadata": {},
   "outputs": [],
   "source": [
    "florentine_net = nx.florentine_families_graph()"
   ]
  },
  {
   "cell_type": "code",
   "execution_count": 3,
   "metadata": {},
   "outputs": [
    {
     "data": {
      "image/png": "[encoded data removed]",
      "text/plain": [
       "<Figure size 432x288 with 1 Axes>"
      ]
     },
     "metadata": {},
     "output_type": "display_data"
    }
   ],
   "source": [
    "nx.draw(florentine_net)"
   ]
  },
  {
   "cell_type": "markdown",
   "metadata": {},
   "source": [
    "## Update nodes with external wealth information"
   ]
  },
  {
   "cell_type": "code",
   "execution_count": 4,
   "metadata": {},
   "outputs": [
    {
     "data": {
      "text/html": [
       "<div>\n",
       "<style scoped>\n",
       "    .dataframe tbody tr th:only-of-type {\n",
       "        vertical-align: middle;\n",
       "    }\n",
       "\n",
       "    .dataframe tbody tr th {\n",
       "        vertical-align: top;\n",
       "    }\n",
       "\n",
       "    .dataframe thead th {\n",
       "        text-align: right;\n",
       "    }\n",
       "</style>\n",
       "<table border=\"1\" class=\"dataframe\">\n",
       "  <thead>\n",
       "    <tr style=\"text-align: right;\">\n",
       "      <th></th>\n",
       "      <th>id</th>\n",
       "      <th>WEALTH</th>\n",
       "      <th>PRIORS</th>\n",
       "      <th>Long</th>\n",
       "      <th>Lat</th>\n",
       "    </tr>\n",
       "  </thead>\n",
       "  <tbody>\n",
       "    <tr>\n",
       "      <th>0</th>\n",
       "      <td>ACCIAIUOLI</td>\n",
       "      <td>10</td>\n",
       "      <td>53</td>\n",
       "      <td>11.252800</td>\n",
       "      <td>43.769335</td>\n",
       "    </tr>\n",
       "    <tr>\n",
       "      <th>1</th>\n",
       "      <td>ALBIZZI</td>\n",
       "      <td>36</td>\n",
       "      <td>65</td>\n",
       "      <td>11.261357</td>\n",
       "      <td>43.771374</td>\n",
       "    </tr>\n",
       "    <tr>\n",
       "      <th>2</th>\n",
       "      <td>RIDOLFI</td>\n",
       "      <td>27</td>\n",
       "      <td>38</td>\n",
       "      <td>11.249088</td>\n",
       "      <td>43.766877</td>\n",
       "    </tr>\n",
       "    <tr>\n",
       "      <th>3</th>\n",
       "      <td>STROZZI</td>\n",
       "      <td>146</td>\n",
       "      <td>74</td>\n",
       "      <td>11.251761</td>\n",
       "      <td>43.771273</td>\n",
       "    </tr>\n",
       "    <tr>\n",
       "      <th>4</th>\n",
       "      <td>BARBADORI</td>\n",
       "      <td>55</td>\n",
       "      <td>0</td>\n",
       "      <td>11.251945</td>\n",
       "      <td>43.767437</td>\n",
       "    </tr>\n",
       "    <tr>\n",
       "      <th>5</th>\n",
       "      <td>BISCHERI</td>\n",
       "      <td>44</td>\n",
       "      <td>12</td>\n",
       "      <td>11.256236</td>\n",
       "      <td>43.773448</td>\n",
       "    </tr>\n",
       "    <tr>\n",
       "      <th>6</th>\n",
       "      <td>CASTELLANI</td>\n",
       "      <td>20</td>\n",
       "      <td>22</td>\n",
       "      <td>11.255909</td>\n",
       "      <td>43.767761</td>\n",
       "    </tr>\n",
       "    <tr>\n",
       "      <th>7</th>\n",
       "      <td>GUADAGNI</td>\n",
       "      <td>8</td>\n",
       "      <td>21</td>\n",
       "      <td>11.247199</td>\n",
       "      <td>43.766106</td>\n",
       "    </tr>\n",
       "    <tr>\n",
       "      <th>8</th>\n",
       "      <td>LAMBERTESCHI</td>\n",
       "      <td>42</td>\n",
       "      <td>0</td>\n",
       "      <td>11.251471</td>\n",
       "      <td>43.769560</td>\n",
       "    </tr>\n",
       "    <tr>\n",
       "      <th>9</th>\n",
       "      <td>MEDICI</td>\n",
       "      <td>103</td>\n",
       "      <td>53</td>\n",
       "      <td>11.255775</td>\n",
       "      <td>43.775190</td>\n",
       "    </tr>\n",
       "    <tr>\n",
       "      <th>10</th>\n",
       "      <td>PAZZI</td>\n",
       "      <td>48</td>\n",
       "      <td>0</td>\n",
       "      <td>11.258026</td>\n",
       "      <td>43.771262</td>\n",
       "    </tr>\n",
       "    <tr>\n",
       "      <th>11</th>\n",
       "      <td>PERUZZI</td>\n",
       "      <td>49</td>\n",
       "      <td>42</td>\n",
       "      <td>11.259643</td>\n",
       "      <td>43.768661</td>\n",
       "    </tr>\n",
       "    <tr>\n",
       "      <th>12</th>\n",
       "      <td>SALVIATI</td>\n",
       "      <td>10</td>\n",
       "      <td>35</td>\n",
       "      <td>11.260196</td>\n",
       "      <td>43.770115</td>\n",
       "    </tr>\n",
       "    <tr>\n",
       "      <th>13</th>\n",
       "      <td>TORNABUONI</td>\n",
       "      <td>48</td>\n",
       "      <td>0</td>\n",
       "      <td>11.251766</td>\n",
       "      <td>43.771583</td>\n",
       "    </tr>\n",
       "    <tr>\n",
       "      <th>14</th>\n",
       "      <td>GINORI</td>\n",
       "      <td>32</td>\n",
       "      <td>0</td>\n",
       "      <td>11.256424</td>\n",
       "      <td>43.775897</td>\n",
       "    </tr>\n",
       "    <tr>\n",
       "      <th>15</th>\n",
       "      <td>PUCCI</td>\n",
       "      <td>3</td>\n",
       "      <td>0</td>\n",
       "      <td>11.257498</td>\n",
       "      <td>43.774489</td>\n",
       "    </tr>\n",
       "  </tbody>\n",
       "</table>\n",
       "</div>"
      ],
      "text/plain": [
       "              id  WEALTH  PRIORS       Long        Lat\n",
       "0     ACCIAIUOLI      10      53  11.252800  43.769335\n",
       "1        ALBIZZI      36      65  11.261357  43.771374\n",
       "2        RIDOLFI      27      38  11.249088  43.766877\n",
       "3        STROZZI     146      74  11.251761  43.771273\n",
       "4      BARBADORI      55       0  11.251945  43.767437\n",
       "5       BISCHERI      44      12  11.256236  43.773448\n",
       "6     CASTELLANI      20      22  11.255909  43.767761\n",
       "7       GUADAGNI       8      21  11.247199  43.766106\n",
       "8   LAMBERTESCHI      42       0  11.251471  43.769560\n",
       "9         MEDICI     103      53  11.255775  43.775190\n",
       "10         PAZZI      48       0  11.258026  43.771262\n",
       "11       PERUZZI      49      42  11.259643  43.768661\n",
       "12      SALVIATI      10      35  11.260196  43.770115\n",
       "13    TORNABUONI      48       0  11.251766  43.771583\n",
       "14        GINORI      32       0  11.256424  43.775897\n",
       "15         PUCCI       3       0  11.257498  43.774489"
      ]
     },
     "execution_count": 4,
     "metadata": {},
     "output_type": "execute_result"
    }
   ],
   "source": [
    "wealth = pd.read_csv('../data/PadgettAttrib.csv')\n",
    "wealth"
   ]
  },
  {
   "cell_type": "code",
   "execution_count": 5,
   "metadata": {},
   "outputs": [],
   "source": [
    "def append_wealth_to_graph(node, wealth):\n",
    "    florentine_net.nodes[node.capitalize()]['wealth'] = wealth"
   ]
  },
  {
   "cell_type": "code",
   "execution_count": 6,
   "metadata": {},
   "outputs": [],
   "source": [
    "for node, familywealth in zip(wealth['id'], wealth['WEALTH']):\n",
    "    if node != \"PUCCI\":\n",
    "        append_wealth_to_graph(node, familywealth)"
   ]
  },
  {
   "cell_type": "code",
   "execution_count": 7,
   "metadata": {},
   "outputs": [
    {
     "data": {
      "text/plain": [
       "NodeDataView({'Acciaiuoli': {'wealth': 10}, 'Medici': {'wealth': 103}, 'Castellani': {'wealth': 20}, 'Peruzzi': {'wealth': 49}, 'Strozzi': {'wealth': 146}, 'Barbadori': {'wealth': 55}, 'Ridolfi': {'wealth': 27}, 'Tornabuoni': {'wealth': 48}, 'Albizzi': {'wealth': 36}, 'Salviati': {'wealth': 10}, 'Pazzi': {'wealth': 48}, 'Bischeri': {'wealth': 44}, 'Guadagni': {'wealth': 8}, 'Ginori': {'wealth': 32}, 'Lamberteschi': {'wealth': 42}})"
      ]
     },
     "execution_count": 7,
     "metadata": {},
     "output_type": "execute_result"
    }
   ],
   "source": [
    "florentine_net.nodes(data=True)"
   ]
  },
  {
   "cell_type": "markdown",
   "metadata": {},
   "source": [
    "## Calculate node centralities\n",
    "In the end those centralities will be correlated with the wealth information"
   ]
  },
  {
   "cell_type": "code",
   "execution_count": 8,
   "metadata": {},
   "outputs": [],
   "source": [
    "centralities = dict()\n",
    "centralities['eigenvector'] = nx.eigenvector_centrality(florentine_net)\n",
    "centralities['degree'] = nx.degree_centrality(florentine_net)\n",
    "centralities['betweenness'] = nx.betweenness_centrality(florentine_net)\n",
    "centralities['closeness'] = nx.closeness_centrality(florentine_net)"
   ]
  },
  {
   "cell_type": "code",
   "execution_count": 9,
   "metadata": {},
   "outputs": [],
   "source": [
    "node_list = list(florentine_net.nodes('wealth'))\n",
    "wealths = [w for n, w in node_list]"
   ]
  },
  {
   "cell_type": "code",
   "execution_count": 10,
   "metadata": {},
   "outputs": [],
   "source": [
    "npa_wealth = np.asarray(wealths) "
   ]
  },
  {
   "cell_type": "markdown",
   "metadata": {},
   "source": [
    "## Execute permutation tests\n",
    "Looking for significant pearson correlations between wealth and centrality measures. A p-value <= 0.05 will be considered as significant. In that case the p-value has to be interpreted as one-tailed."
   ]
  },
  {
   "cell_type": "code",
   "execution_count": 11,
   "metadata": {},
   "outputs": [],
   "source": [
    "random_generator = np.random.RandomState(42)"
   ]
  },
  {
   "cell_type": "code",
   "execution_count": 12,
   "metadata": {},
   "outputs": [],
   "source": [
    "def permutation_test_pearson_correlation(x_original, y_original, num_rounds=20000):\n",
    "    \"\"\"\n",
    "    Permutation test checking pearson correlation\n",
    "    -------------\n",
    "    x_original : First numpy array\n",
    "    y_original : Second numpy array\n",
    "    num_rounds : int (default: 20'000)\n",
    "        The number of permutations.\n",
    "    Returns\n",
    "    ----------\n",
    "    tuple (initial reference correlation, p-value)\n",
    "    \"\"\"\n",
    "    \n",
    "    x = np.copy(x_original)\n",
    "    y = np.copy(y_original)\n",
    "    \n",
    "    # TODO: Implement permutation test here (see parameters and return value in docstring)\n",
    "    # Hint: For pearson correlation coefficient use: np.corrcoef(x, y)[1][0]"
   ]
  },
  {
   "cell_type": "code",
   "execution_count": 13,
   "metadata": {},
   "outputs": [
    {
     "name": "stdout",
     "output_type": "stream",
     "text": [
      "Observed correlation of wealth and centrality using eigenvector was 0.47554419185603697 with a p-value of 0.02905\n",
      "Observed correlation of wealth and centrality using degree was 0.5031865847536792 with a p-value of 0.04245\n",
      "Observed correlation of wealth and centrality using betweenness was 0.3103916330276614 with a p-value of 0.1225\n",
      "Observed correlation of wealth and centrality using closeness was 0.28773886173665764 with a p-value of 0.14965\n"
     ]
    }
   ],
   "source": [
    "for name, centrality in centralities.items():\n",
    "    x = np.array(list(centrality.values())) \n",
    "    y = npa_wealth\n",
    "    \n",
    "    corr, p_val = permutation_test_pearson_correlation(x, y)\n",
    "    \n",
    "    print(f'Observed correlation of wealth and centrality using {name} was {corr} with a p-value of {p_val}')"
   ]
  },
  {
   "cell_type": "markdown",
   "metadata": {},
   "source": [
    "## Result\n",
    "TODO: Interpret the result"
   ]
  }
 ],
 "metadata": {
  "kernelspec": {
   "display_name": "Python 3",
   "language": "python",
   "name": "python3"
  },
  "language_info": {
   "codemirror_mode": {
    "name": "ipython",
    "version": 3
   },
   "file_extension": ".py",
   "mimetype": "text/x-python",
   "name": "python",
   "nbconvert_exporter": "python",
   "pygments_lexer": "ipython3",
   "version": "3.7.7"
  }
 },
 "nbformat": 4,
 "nbformat_minor": 4
}
