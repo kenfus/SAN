{
 "cells": [
  {
   "cell_type": "markdown",
   "metadata": {},
   "source": [
    "# Link prediction using examples from slides"
   ]
  },
  {
   "cell_type": "markdown",
   "metadata": {},
   "source": [
    "## Import libraries and define some auxiliary functions"
   ]
  },
  {
   "cell_type": "code",
   "execution_count": 41,
   "metadata": {},
   "outputs": [],
   "source": [
    "import networkx as nx"
   ]
  },
  {
   "cell_type": "code",
   "execution_count": 42,
   "metadata": {},
   "outputs": [],
   "source": [
    "def print_sorted_descending_by_value(predicted_edges):\n",
    "    \"\"\"\n",
    "    Takes a list of tuples and prints the tuples in ascending order according the 3rd element\n",
    "    \"\"\"\n",
    "    print(*sorted(predicted_edges, reverse=True, key=lambda tup: tup[2]), sep=\"\\n\")"
   ]
  },
  {
   "cell_type": "markdown",
   "metadata": {},
   "source": [
    "## Graph definition"
   ]
  },
  {
   "cell_type": "code",
   "execution_count": 43,
   "metadata": {},
   "outputs": [
    {
     "data": {
      "text/plain": "<Figure size 432x288 with 1 Axes>",
      "image/png": "[encoded data removed]"
     },
     "metadata": {},
     "output_type": "display_data"
    }
   ],
   "source": [
    "G = nx.Graph()\n",
    "G.add_nodes_from([\"A\", \"B\", \"C\", \"D\", \"E\", \"F\", \"G\", \"H\", \"I\"])\n",
    "G.add_edges_from([(\"A\", \"B\"), (\"A\", \"D\"), (\"A\", \"E\"), \n",
    "                  (\"B\", \"C\"), (\"B\", \"D\"),\n",
    "                  (\"C\", \"D\"), (\"C\", \"F\"), \n",
    "                  (\"E\", \"F\"),(\"E\", \"G\"),\n",
    "                  (\"F\", \"G\"),\n",
    "                  (\"G\", \"H\"),(\"G\", \"I\")])\n",
    "\n",
    "nx.draw_networkx(G, node_color=\"lightblue\")"
   ]
  },
  {
   "cell_type": "markdown",
   "metadata": {},
   "source": [
    "## Preferential Attachment"
   ]
  },
  {
   "cell_type": "code",
   "execution_count": 44,
   "metadata": {},
   "outputs": [
    {
     "name": "stdout",
     "output_type": "stream",
     "text": [
      "('B', 'G', 12)\n",
      "('A', 'G', 12)\n",
      "('G', 'C', 12)\n",
      "('G', 'D', 12)\n",
      "('B', 'F', 9)\n",
      "('B', 'E', 9)\n",
      "('A', 'C', 9)\n",
      "('A', 'F', 9)\n",
      "('F', 'D', 9)\n",
      "('C', 'E', 9)\n",
      "('E', 'D', 9)\n",
      "('B', 'H', 3)\n",
      "('B', 'I', 3)\n",
      "('H', 'A', 3)\n",
      "('H', 'F', 3)\n",
      "('H', 'C', 3)\n",
      "('H', 'E', 3)\n",
      "('H', 'D', 3)\n",
      "('A', 'I', 3)\n",
      "('I', 'C', 3)\n",
      "('I', 'F', 3)\n",
      "('I', 'E', 3)\n",
      "('I', 'D', 3)\n",
      "('H', 'I', 1)\n"
     ]
    }
   ],
   "source": [
    "pref_attachment = list(nx.preferential_attachment(G))\n",
    "print_sorted_descending_by_value(pref_attachment)"
   ]
  },
  {
   "cell_type": "markdown",
   "metadata": {},
   "source": [
    "## Common Neighbours\n",
    "There is no common neighbours function that calculates the number of common neighbours for all unconnected node pairs. But there is a common_neighbours method which takes two node arguments and returns the number of neighbours. So we just need to create a list of node of all unconnected node pairs by hand and call the common neighbours method for each pair."
   ]
  },
  {
   "cell_type": "code",
   "execution_count": 45,
   "metadata": {},
   "outputs": [
    {
     "name": "stdout",
     "output_type": "stream",
     "text": [
      "[('A', 'C'), ('A', 'F'), ('A', 'G'), ('A', 'H'), ('A', 'I'), ('B', 'E'), ('B', 'F'), ('B', 'G'), ('B', 'H'), ('B', 'I'), ('C', 'E'), ('C', 'G'), ('C', 'H'), ('C', 'I'), ('D', 'E'), ('D', 'F'), ('D', 'G'), ('D', 'H'), ('D', 'I'), ('E', 'H'), ('E', 'I'), ('F', 'H'), ('F', 'I'), ('H', 'I')]\n"
     ]
    }
   ],
   "source": [
    "all_nodes = list(G.nodes())\n",
    "all_unconnected_pairs = []\n",
    "for i in range(0, len(all_nodes)):\n",
    "    for j in range(i+1, len(all_nodes)):\n",
    "        first = all_nodes[i]\n",
    "        second = all_nodes[j]\n",
    "        if not G.has_edge(first, second):\n",
    "            all_unconnected_pairs.append((first, second))\n",
    "print(all_unconnected_pairs)"
   ]
  },
  {
   "cell_type": "markdown",
   "source": [
    "Hint: The code snipped above could also be written using list comprehensions in three code-lines:\n",
    "```python\n",
    "nodes = list(G.nodes())\n",
    "all_unconnected_pairs = [(nodes[i], nodes[j]) for i in range(0, len(nodes)) for j in range (i+1, len(nodes)) if not G.has_edge(nodes[i], nodes[j])]\n",
    "print(all_unconnected_pairs)\n",
    "```"
   ],
   "metadata": {
    "collapsed": false
   }
  },
  {
   "cell_type": "code",
   "execution_count": 46,
   "metadata": {},
   "outputs": [
    {
     "name": "stdout",
     "output_type": "stream",
     "text": [
      "('A', 'C', 2)\n",
      "('A', 'F', 1)\n",
      "('A', 'G', 1)\n",
      "('B', 'E', 1)\n",
      "('B', 'F', 1)\n",
      "('C', 'E', 1)\n",
      "('C', 'G', 1)\n",
      "('D', 'E', 1)\n",
      "('D', 'F', 1)\n",
      "('E', 'H', 1)\n",
      "('E', 'I', 1)\n",
      "('F', 'H', 1)\n",
      "('F', 'I', 1)\n",
      "('H', 'I', 1)\n",
      "('A', 'H', 0)\n",
      "('A', 'I', 0)\n",
      "('B', 'G', 0)\n",
      "('B', 'H', 0)\n",
      "('B', 'I', 0)\n",
      "('C', 'H', 0)\n",
      "('C', 'I', 0)\n",
      "('D', 'G', 0)\n",
      "('D', 'H', 0)\n",
      "('D', 'I', 0)\n"
     ]
    }
   ],
   "source": [
    "common_neighbours = [(u, v, len(list(nx.common_neighbors(G, u, v)))) for (u, v) in all_unconnected_pairs]\n",
    "print_sorted_descending_by_value(common_neighbours)"
   ]
  },
  {
   "cell_type": "markdown",
   "metadata": {},
   "source": [
    "## Jaccard Similarity"
   ]
  },
  {
   "cell_type": "code",
   "execution_count": 47,
   "metadata": {},
   "outputs": [
    {
     "name": "stdout",
     "output_type": "stream",
     "text": [
      "('H', 'I', 1.0)\n",
      "('A', 'C', 0.5)\n",
      "('H', 'F', 0.3333333333333333)\n",
      "('H', 'E', 0.3333333333333333)\n",
      "('I', 'F', 0.3333333333333333)\n",
      "('I', 'E', 0.3333333333333333)\n",
      "('B', 'F', 0.2)\n",
      "('B', 'E', 0.2)\n",
      "('A', 'F', 0.2)\n",
      "('F', 'D', 0.2)\n",
      "('C', 'E', 0.2)\n",
      "('E', 'D', 0.2)\n",
      "('A', 'G', 0.16666666666666666)\n",
      "('G', 'C', 0.16666666666666666)\n",
      "('B', 'H', 0.0)\n",
      "('B', 'I', 0.0)\n",
      "('B', 'G', 0.0)\n",
      "('H', 'A', 0.0)\n",
      "('H', 'C', 0.0)\n",
      "('H', 'D', 0.0)\n",
      "('A', 'I', 0.0)\n",
      "('I', 'C', 0.0)\n",
      "('I', 'D', 0.0)\n",
      "('G', 'D', 0.0)\n"
     ]
    }
   ],
   "source": [
    "jaccard = list(nx.jaccard_coefficient(G))\n",
    "print_sorted_descending_by_value(jaccard)"
   ]
  },
  {
   "cell_type": "markdown",
   "metadata": {},
   "source": [
    "## Resource Allocation"
   ]
  },
  {
   "cell_type": "code",
   "execution_count": 48,
   "metadata": {},
   "outputs": [
    {
     "name": "stdout",
     "output_type": "stream",
     "text": [
      "('A', 'C', 0.6666666666666666)\n",
      "('B', 'F', 0.3333333333333333)\n",
      "('B', 'E', 0.3333333333333333)\n",
      "('A', 'F', 0.3333333333333333)\n",
      "('A', 'G', 0.3333333333333333)\n",
      "('F', 'D', 0.3333333333333333)\n",
      "('G', 'C', 0.3333333333333333)\n",
      "('C', 'E', 0.3333333333333333)\n",
      "('E', 'D', 0.3333333333333333)\n",
      "('H', 'I', 0.25)\n",
      "('H', 'F', 0.25)\n",
      "('H', 'E', 0.25)\n",
      "('I', 'F', 0.25)\n",
      "('I', 'E', 0.25)\n",
      "('B', 'H', 0)\n",
      "('B', 'I', 0)\n",
      "('B', 'G', 0)\n",
      "('H', 'A', 0)\n",
      "('H', 'C', 0)\n",
      "('H', 'D', 0)\n",
      "('A', 'I', 0)\n",
      "('I', 'C', 0)\n",
      "('I', 'D', 0)\n",
      "('G', 'D', 0)\n"
     ]
    }
   ],
   "source": [
    "resource_allocation = list(nx.resource_allocation_index(G))\n",
    "print_sorted_descending_by_value(resource_allocation)"
   ]
  },
  {
   "cell_type": "markdown",
   "metadata": {},
   "source": [
    "## Adamic Adar"
   ]
  },
  {
   "cell_type": "code",
   "execution_count": 49,
   "metadata": {},
   "outputs": [
    {
     "name": "stdout",
     "output_type": "stream",
     "text": [
      "('A', 'C', 1.8204784532536746)\n",
      "('B', 'F', 0.9102392266268373)\n",
      "('B', 'E', 0.9102392266268373)\n",
      "('A', 'F', 0.9102392266268373)\n",
      "('A', 'G', 0.9102392266268373)\n",
      "('F', 'D', 0.9102392266268373)\n",
      "('G', 'C', 0.9102392266268373)\n",
      "('C', 'E', 0.9102392266268373)\n",
      "('E', 'D', 0.9102392266268373)\n",
      "('H', 'I', 0.7213475204444817)\n",
      "('H', 'F', 0.7213475204444817)\n",
      "('H', 'E', 0.7213475204444817)\n",
      "('I', 'F', 0.7213475204444817)\n",
      "('I', 'E', 0.7213475204444817)\n",
      "('B', 'H', 0)\n",
      "('B', 'I', 0)\n",
      "('B', 'G', 0)\n",
      "('H', 'A', 0)\n",
      "('H', 'C', 0)\n",
      "('H', 'D', 0)\n",
      "('A', 'I', 0)\n",
      "('I', 'C', 0)\n",
      "('I', 'D', 0)\n",
      "('G', 'D', 0)\n"
     ]
    }
   ],
   "source": [
    "adamic = list(nx.adamic_adar_index(G))\n",
    "print_sorted_descending_by_value(adamic)"
   ]
  },
  {
   "cell_type": "markdown",
   "metadata": {},
   "source": [
    "## Soundarajan Hopcroft"
   ]
  },
  {
   "cell_type": "code",
   "execution_count": 50,
   "metadata": {},
   "outputs": [
    {
     "name": "stdout",
     "output_type": "stream",
     "text": [
      "{'A': 0, 'B': 0, 'C': 0, 'D': 0, 'E': 1, 'F': 1, 'G': 1, 'H': 1, 'I': 1}\n",
      "('A', 'C', 4)\n",
      "('H', 'I', 2)\n",
      "('H', 'F', 2)\n",
      "('H', 'E', 2)\n",
      "('I', 'F', 2)\n",
      "('I', 'E', 2)\n",
      "('B', 'F', 1)\n",
      "('B', 'E', 1)\n",
      "('A', 'F', 1)\n",
      "('A', 'G', 1)\n",
      "('F', 'D', 1)\n",
      "('G', 'C', 1)\n",
      "('C', 'E', 1)\n",
      "('E', 'D', 1)\n",
      "('B', 'H', 0)\n",
      "('B', 'I', 0)\n",
      "('B', 'G', 0)\n",
      "('H', 'A', 0)\n",
      "('H', 'C', 0)\n",
      "('H', 'D', 0)\n",
      "('A', 'I', 0)\n",
      "('I', 'C', 0)\n",
      "('I', 'D', 0)\n",
      "('G', 'D', 0)\n"
     ]
    }
   ],
   "source": [
    "import community\n",
    "partition = community.best_partition(G)\n",
    "print(partition)\n",
    "\n",
    "for node, community in partition.items():\n",
    "        G.nodes[node]['community'] = community\n",
    "        \n",
    "soundarajan = list(nx.cn_soundarajan_hopcroft(G))\n",
    "print_sorted_descending_by_value(soundarajan)"
   ]
  }
 ],
 "metadata": {
  "kernelspec": {
   "display_name": "Python 3",
   "language": "python",
   "name": "python3"
  },
  "language_info": {
   "codemirror_mode": {
    "name": "ipython",
    "version": 3
   },
   "file_extension": ".py",
   "mimetype": "text/x-python",
   "name": "python",
   "nbconvert_exporter": "python",
   "pygments_lexer": "ipython3",
   "version": "3.7.7"
  }
 },
 "nbformat": 4,
 "nbformat_minor": 4
}