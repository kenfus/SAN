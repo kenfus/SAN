{
 "cells": [
  {
   "cell_type": "markdown",
   "metadata": {},
   "source": [
    "### Dataset by:\n",
    "```\n",
    "@misc{rozemberczki2021twitch,\n",
    "      title={Twitch Gamers: a Dataset for Evaluating Proximity Preserving and Structural Role-based Node Embeddings}, \n",
    "      author={Benedek Rozemberczki and Rik Sarkar},\n",
    "      year={2021},\n",
    "      eprint={2101.03091},\n",
    "      archivePrefix={arXiv},\n",
    "      primaryClass={cs.SI}\n",
    "}\n",
    "```"
   ]
  },
  {
   "cell_type": "markdown",
   "metadata": {},
   "source": [
    "### Social Network Analysis of Twitch Partners\n",
    "A social network of Twitch users which was collected from the public API in Spring 2018. Nodes are Twitch users and edges are mutual follower relationships between them. The graph forms a single strongly connected component without missing attributes. The machine learning tasks related to the graph are count data regression and node classification."
   ]
  },
  {
   "cell_type": "code",
   "execution_count": 61,
   "metadata": {},
   "outputs": [],
   "source": [
    "import networkx as nx   \n",
    "import pandas as pd\n",
    "import seaborn as sns"
   ]
  },
  {
   "cell_type": "markdown",
   "metadata": {},
   "source": [
    "## Netzwerk einlesen und in NetworkX abbilden"
   ]
  },
  {
   "cell_type": "code",
   "execution_count": 20,
   "metadata": {},
   "outputs": [],
   "source": [
    "# Netzwerk einlesen\n",
    "fh = open(\"data/large_twitch_edges.csv\", \"rb\")\n",
    "G = nx.read_edgelist(fh, delimiter=',')\n",
    "fh.close()"
   ]
  },
  {
   "cell_type": "code",
   "execution_count": 23,
   "metadata": {},
   "outputs": [],
   "source": [
    "# Remove header nodes\n",
    "G.remove_node('numeric_id_1')\n",
    "G.remove_node('numeric_id_2')"
   ]
  },
  {
   "cell_type": "markdown",
   "metadata": {},
   "source": [
    "### Manuelle Überprüfung, ob das Netz korrekt eingelesen wurde"
   ]
  },
  {
   "cell_type": "code",
   "execution_count": 44,
   "metadata": {},
   "outputs": [
    {
     "data": {
      "text/html": [
       "<div>\n",
       "<style scoped>\n",
       "    .dataframe tbody tr th:only-of-type {\n",
       "        vertical-align: middle;\n",
       "    }\n",
       "\n",
       "    .dataframe tbody tr th {\n",
       "        vertical-align: top;\n",
       "    }\n",
       "\n",
       "    .dataframe thead th {\n",
       "        text-align: right;\n",
       "    }\n",
       "</style>\n",
       "<table border=\"1\" class=\"dataframe\">\n",
       "  <thead>\n",
       "    <tr style=\"text-align: right;\">\n",
       "      <th></th>\n",
       "      <th>numeric_id_1</th>\n",
       "      <th>numeric_id_2</th>\n",
       "    </tr>\n",
       "  </thead>\n",
       "  <tbody>\n",
       "    <tr>\n",
       "      <th>0</th>\n",
       "      <td>98343</td>\n",
       "      <td>141493</td>\n",
       "    </tr>\n",
       "    <tr>\n",
       "      <th>1</th>\n",
       "      <td>98343</td>\n",
       "      <td>58736</td>\n",
       "    </tr>\n",
       "    <tr>\n",
       "      <th>2</th>\n",
       "      <td>98343</td>\n",
       "      <td>140703</td>\n",
       "    </tr>\n",
       "    <tr>\n",
       "      <th>3</th>\n",
       "      <td>98343</td>\n",
       "      <td>151401</td>\n",
       "    </tr>\n",
       "    <tr>\n",
       "      <th>4</th>\n",
       "      <td>98343</td>\n",
       "      <td>157118</td>\n",
       "    </tr>\n",
       "  </tbody>\n",
       "</table>\n",
       "</div>"
      ],
      "text/plain": [
       "  numeric_id_1 numeric_id_2\n",
       "0        98343       141493\n",
       "1        98343        58736\n",
       "2        98343       140703\n",
       "3        98343       151401\n",
       "4        98343       157118"
      ]
     },
     "execution_count": 44,
     "metadata": {},
     "output_type": "execute_result"
    }
   ],
   "source": [
    "edge_list = pd.read_csv('data/large_twitch_edges.csv').astype(str)\n",
    "edge_list.head()"
   ]
  },
  {
   "cell_type": "code",
   "execution_count": 49,
   "metadata": {},
   "outputs": [],
   "source": [
    "# Überprüfung, ob die Nachbarn von 98343 korrekt abgebildet wurden.\n",
    "assert set(G.neighbors('98343')) == set(edge_list[edge_list.numeric_id_1=='98343'].numeric_id_2), \"Neighbors of 98343 are not correct.\""
   ]
  },
  {
   "cell_type": "markdown",
   "metadata": {},
   "source": [
    "## EDA auf Knotenattributen und Netzwerkgrösse\n",
    "### Netzwerkgrösse"
   ]
  },
  {
   "cell_type": "code",
   "execution_count": 80,
   "metadata": {},
   "outputs": [
    {
     "name": "stdout",
     "output_type": "stream",
     "text": [
      "Anzahl Knoten: 168114\n",
      "Anzahl Kanten: 6797557\n",
      "Density: 0.00048103610439398153\n"
     ]
    }
   ],
   "source": [
    "print(f'Anzahl Knoten: {G.number_of_nodes()}')\n",
    "print(f'Anzahl Kanten: {G.number_of_edges()}')\n",
    "print(f'Density: {nx.density(G)}')"
   ]
  },
  {
   "cell_type": "markdown",
   "metadata": {},
   "source": [
    "Wir haben es also mit einem sehr grossen Netzwerk zu tun, welches aber wenig Kanten hat im Vergleich mit der Anzahl Knoten. Dies ergibt soweit Sinn, da eine Kante nur entsteht, wenn sich User gegenseitig followen. User, welche fast nur anderen zuschauen, werden wohl wenig Kanten haben, da diese eher selten gefollowed werden. Wir werden das Netzwerk nach gewissen Knotenattributen filtern, um die Prozessierung zu ermöglichen."
   ]
  },
  {
   "cell_type": "markdown",
   "metadata": {},
   "source": [
    "### Knotenattribute"
   ]
  },
  {
   "cell_type": "code",
   "execution_count": 4,
   "metadata": {},
   "outputs": [],
   "source": [
    "features = pd.read_csv('data/large_twitch_features.csv')"
   ]
  },
  {
   "cell_type": "code",
   "execution_count": 56,
   "metadata": {},
   "outputs": [
    {
     "data": {
      "text/plain": [
       "Index(['views', 'mature', 'life_time', 'created_at', 'updated_at',\n",
       "       'numeric_id', 'dead_account', 'language', 'affiliate'],\n",
       "      dtype='object')"
      ]
     },
     "execution_count": 56,
     "metadata": {},
     "output_type": "execute_result"
    }
   ],
   "source": [
    "features.columns"
   ]
  },
  {
   "cell_type": "markdown",
   "metadata": {},
   "source": [
    "Der Datensatz hat folgende Attribute:\n",
    "- `views`: Anzahl Views auf dem User / Channel\n",
    "- `mature`: Ob der Channel sich an Erwachsene richtet.\n",
    "- `life_time`: Anzahl Tage zwischen erstem Stream und letztem Stream.\n",
    "- `created_at`: Wann der User erstellt wurde\n",
    "- `updated_at`: Wann der User das letzte mal gestreamed hat.\n",
    "- `numeric_id`: Unique ID des Users\n",
    "- `dead_account`: Ob der Account deaktiviert wurde oder der User lange nicht aktiv war (~3 Monate)\n",
    "- `language`: Sprache des Users / Channel\n",
    "- `affiliate`: Ob der User ein Twitchpartner ist.\n"
   ]
  },
  {
   "cell_type": "code",
   "execution_count": 79,
   "metadata": {},
   "outputs": [
    {
     "data": {
      "text/plain": [
       "views           0\n",
       "mature          0\n",
       "life_time       0\n",
       "created_at      0\n",
       "updated_at      0\n",
       "numeric_id      0\n",
       "dead_account    0\n",
       "language        0\n",
       "affiliate       0\n",
       "dtype: int64"
      ]
     },
     "execution_count": 79,
     "metadata": {},
     "output_type": "execute_result"
    }
   ],
   "source": [
    "features.isna().sum()"
   ]
  },
  {
   "cell_type": "markdown",
   "metadata": {},
   "source": []
  },
  {
   "cell_type": "code",
   "execution_count": 6,
   "metadata": {},
   "outputs": [],
   "source": [
    "node_list = []\n",
    "for rows in features.iterrows():\n",
    "    node_list.append((str(rows[1]['numeric_id']), {'views': rows[1]['views']}))"
   ]
  },
  {
   "cell_type": "code",
   "execution_count": 11,
   "metadata": {},
   "outputs": [],
   "source": [
    "G.add_nodes_from(node_list)"
   ]
  },
  {
   "cell_type": "code",
   "execution_count": 12,
   "metadata": {},
   "outputs": [
    {
     "data": {
      "text/plain": [
       "['113417',\n",
       " '95914',\n",
       " '155127',\n",
       " '71050',\n",
       " '112881',\n",
       " '57532',\n",
       " '64605',\n",
       " '8079',\n",
       " '6250',\n",
       " '125642',\n",
       " '30268',\n",
       " '53724',\n",
       " '123076',\n",
       " '165361',\n",
       " '149069',\n",
       " '42688',\n",
       " '90650',\n",
       " '35358',\n",
       " '8176',\n",
       " '54063',\n",
       " '32920',\n",
       " '31140',\n",
       " '56352',\n",
       " '83691',\n",
       " '87271',\n",
       " '32338',\n",
       " '61862',\n",
       " '37818',\n",
       " '55192',\n",
       " '85756',\n",
       " '110345',\n",
       " '85701',\n",
       " '52703',\n",
       " '119034',\n",
       " '152296',\n",
       " '144643',\n",
       " '161362',\n",
       " '108809',\n",
       " '128864',\n",
       " '35408',\n",
       " '94483',\n",
       " '83095',\n",
       " '61780',\n",
       " '78367',\n",
       " '26309',\n",
       " '86321',\n",
       " '119017',\n",
       " '79844',\n",
       " '89069',\n",
       " '158403',\n",
       " '78354',\n",
       " '39372',\n",
       " '58493',\n",
       " '126773',\n",
       " '128328',\n",
       " '130232',\n",
       " '105992',\n",
       " '5507',\n",
       " '64419',\n",
       " '55261',\n",
       " '45001',\n",
       " '120819',\n",
       " '98175',\n",
       " '53444',\n",
       " '38031',\n",
       " '34625',\n",
       " '41855',\n",
       " '86266',\n",
       " '137899',\n",
       " '21357',\n",
       " '40868',\n",
       " '148905',\n",
       " '117105',\n",
       " '67333',\n",
       " '8121',\n",
       " '31559',\n",
       " '85877',\n",
       " '111372',\n",
       " '107854',\n",
       " '161658',\n",
       " '14649',\n",
       " '77138',\n",
       " '11288',\n",
       " '11604',\n",
       " '84226',\n",
       " '146335',\n",
       " '37297',\n",
       " '139448',\n",
       " '113692',\n",
       " '165834',\n",
       " '149295',\n",
       " '96173',\n",
       " '32147',\n",
       " '1852',\n",
       " '146235',\n",
       " '88518',\n",
       " '145545',\n",
       " '84427',\n",
       " '131354',\n",
       " '48214',\n",
       " '11',\n",
       " '4619',\n",
       " '9455',\n",
       " '54701',\n",
       " '23195',\n",
       " '74656',\n",
       " '153070',\n",
       " '130673',\n",
       " '4712',\n",
       " '148010',\n",
       " '31352',\n",
       " '43498',\n",
       " '146782',\n",
       " '10367',\n",
       " '53670',\n",
       " '92424',\n",
       " '131361',\n",
       " '92773',\n",
       " '152394',\n",
       " '164425',\n",
       " '117505',\n",
       " '76829',\n",
       " '100305',\n",
       " '75077',\n",
       " '27976',\n",
       " '3051',\n",
       " '93390',\n",
       " '155786',\n",
       " '54993',\n",
       " '57569',\n",
       " '10287',\n",
       " '87938',\n",
       " '154446',\n",
       " '9275',\n",
       " '87318',\n",
       " '72974',\n",
       " '5280',\n",
       " '93318',\n",
       " '48695',\n",
       " '28686',\n",
       " '6097',\n",
       " '131265',\n",
       " '73083',\n",
       " '134873',\n",
       " '149250',\n",
       " '118410',\n",
       " '102726',\n",
       " '80459',\n",
       " '94598',\n",
       " '115974',\n",
       " '66693',\n",
       " '29118',\n",
       " '62382',\n",
       " '152',\n",
       " '143272',\n",
       " '6938',\n",
       " '30288',\n",
       " '61089',\n",
       " '97874',\n",
       " '25709',\n",
       " '112156',\n",
       " '35468',\n",
       " '56255',\n",
       " '22189',\n",
       " '73213',\n",
       " '108906',\n",
       " '13704',\n",
       " '102493',\n",
       " '16108',\n",
       " '32154',\n",
       " '149006',\n",
       " '1515',\n",
       " '53788',\n",
       " '8430',\n",
       " '17420',\n",
       " '113720',\n",
       " '6494',\n",
       " '60551',\n",
       " '104340',\n",
       " '113620',\n",
       " '37752',\n",
       " '60065',\n",
       " '124589',\n",
       " '140500',\n",
       " '46302',\n",
       " '14470',\n",
       " '73625',\n",
       " '59532',\n",
       " '8410',\n",
       " '54953',\n",
       " '147858',\n",
       " '59163',\n",
       " '140745',\n",
       " '155281',\n",
       " '60842',\n",
       " '90394',\n",
       " '41048',\n",
       " '18554',\n",
       " '104106',\n",
       " '19547',\n",
       " '107123',\n",
       " '49222',\n",
       " '23562',\n",
       " '122021',\n",
       " '103295',\n",
       " '7632',\n",
       " '106236',\n",
       " '68999',\n",
       " '2122',\n",
       " '84038',\n",
       " '37181',\n",
       " '2566',\n",
       " '150964',\n",
       " '152402',\n",
       " '118516',\n",
       " '28703',\n",
       " '134979',\n",
       " '65287',\n",
       " '40101',\n",
       " '12916',\n",
       " '149635',\n",
       " '99179',\n",
       " '128241',\n",
       " '132706',\n",
       " '62688',\n",
       " '90374',\n",
       " '2815',\n",
       " '157195',\n",
       " '142512',\n",
       " '2220',\n",
       " '113885',\n",
       " '19719',\n",
       " '85758',\n",
       " '15080',\n",
       " '167998',\n",
       " '139843',\n",
       " '87817',\n",
       " '165799',\n",
       " '35618',\n",
       " '89970',\n",
       " '74457',\n",
       " '127763',\n",
       " '123824',\n",
       " '107167',\n",
       " '52262',\n",
       " '57101',\n",
       " '163040',\n",
       " '63889',\n",
       " '48398',\n",
       " '43359',\n",
       " '77518',\n",
       " '104735',\n",
       " '99696',\n",
       " '107808',\n",
       " '146669',\n",
       " '121882',\n",
       " '13754',\n",
       " '104302',\n",
       " '28327',\n",
       " '126504',\n",
       " '1081',\n",
       " '922',\n",
       " '68588',\n",
       " '131436',\n",
       " '153554',\n",
       " '104720',\n",
       " '55207',\n",
       " '133329',\n",
       " '40490',\n",
       " '61730',\n",
       " '78188',\n",
       " '100476',\n",
       " '134205',\n",
       " '167533',\n",
       " '23378',\n",
       " '142087',\n",
       " '103558',\n",
       " '144687']"
      ]
     },
     "execution_count": 12,
     "metadata": {},
     "output_type": "execute_result"
    }
   ],
   "source": [
    "list(G.adj['1'])"
   ]
  },
  {
   "cell_type": "code",
   "execution_count": 13,
   "metadata": {},
   "outputs": [
    {
     "data": {
      "text/plain": [
       "{'views': 500}"
      ]
     },
     "execution_count": 13,
     "metadata": {},
     "output_type": "execute_result"
    }
   ],
   "source": [
    "G.nodes['1']"
   ]
  },
  {
   "cell_type": "code",
   "execution_count": 14,
   "metadata": {},
   "outputs": [
    {
     "data": {
      "text/plain": [
       "AtlasView({'113417': {}, '95914': {}, '155127': {}, '71050': {}, '112881': {}, '57532': {}, '64605': {}, '8079': {}, '6250': {}, '125642': {}, '30268': {}, '53724': {}, '123076': {}, '165361': {}, '149069': {}, '42688': {}, '90650': {}, '35358': {}, '8176': {}, '54063': {}, '32920': {}, '31140': {}, '56352': {}, '83691': {}, '87271': {}, '32338': {}, '61862': {}, '37818': {}, '55192': {}, '85756': {}, '110345': {}, '85701': {}, '52703': {}, '119034': {}, '152296': {}, '144643': {}, '161362': {}, '108809': {}, '128864': {}, '35408': {}, '94483': {}, '83095': {}, '61780': {}, '78367': {}, '26309': {}, '86321': {}, '119017': {}, '79844': {}, '89069': {}, '158403': {}, '78354': {}, '39372': {}, '58493': {}, '126773': {}, '128328': {}, '130232': {}, '105992': {}, '5507': {}, '64419': {}, '55261': {}, '45001': {}, '120819': {}, '98175': {}, '53444': {}, '38031': {}, '34625': {}, '41855': {}, '86266': {}, '137899': {}, '21357': {}, '40868': {}, '148905': {}, '117105': {}, '67333': {}, '8121': {}, '31559': {}, '85877': {}, '111372': {}, '107854': {}, '161658': {}, '14649': {}, '77138': {}, '11288': {}, '11604': {}, '84226': {}, '146335': {}, '37297': {}, '139448': {}, '113692': {}, '165834': {}, '149295': {}, '96173': {}, '32147': {}, '1852': {}, '146235': {}, '88518': {}, '145545': {}, '84427': {}, '131354': {}, '48214': {}, '11': {}, '4619': {}, '9455': {}, '54701': {}, '23195': {}, '74656': {}, '153070': {}, '130673': {}, '4712': {}, '148010': {}, '31352': {}, '43498': {}, '146782': {}, '10367': {}, '53670': {}, '92424': {}, '131361': {}, '92773': {}, '152394': {}, '164425': {}, '117505': {}, '76829': {}, '100305': {}, '75077': {}, '27976': {}, '3051': {}, '93390': {}, '155786': {}, '54993': {}, '57569': {}, '10287': {}, '87938': {}, '154446': {}, '9275': {}, '87318': {}, '72974': {}, '5280': {}, '93318': {}, '48695': {}, '28686': {}, '6097': {}, '131265': {}, '73083': {}, '134873': {}, '149250': {}, '118410': {}, '102726': {}, '80459': {}, '94598': {}, '115974': {}, '66693': {}, '29118': {}, '62382': {}, '152': {}, '143272': {}, '6938': {}, '30288': {}, '61089': {}, '97874': {}, '25709': {}, '112156': {}, '35468': {}, '56255': {}, '22189': {}, '73213': {}, '108906': {}, '13704': {}, '102493': {}, '16108': {}, '32154': {}, '149006': {}, '1515': {}, '53788': {}, '8430': {}, '17420': {}, '113720': {}, '6494': {}, '60551': {}, '104340': {}, '113620': {}, '37752': {}, '60065': {}, '124589': {}, '140500': {}, '46302': {}, '14470': {}, '73625': {}, '59532': {}, '8410': {}, '54953': {}, '147858': {}, '59163': {}, '140745': {}, '155281': {}, '60842': {}, '90394': {}, '41048': {}, '18554': {}, '104106': {}, '19547': {}, '107123': {}, '49222': {}, '23562': {}, '122021': {}, '103295': {}, '7632': {}, '106236': {}, '68999': {}, '2122': {}, '84038': {}, '37181': {}, '2566': {}, '150964': {}, '152402': {}, '118516': {}, '28703': {}, '134979': {}, '65287': {}, '40101': {}, '12916': {}, '149635': {}, '99179': {}, '128241': {}, '132706': {}, '62688': {}, '90374': {}, '2815': {}, '157195': {}, '142512': {}, '2220': {}, '113885': {}, '19719': {}, '85758': {}, '15080': {}, '167998': {}, '139843': {}, '87817': {}, '165799': {}, '35618': {}, '89970': {}, '74457': {}, '127763': {}, '123824': {}, '107167': {}, '52262': {}, '57101': {}, '163040': {}, '63889': {}, '48398': {}, '43359': {}, '77518': {}, '104735': {}, '99696': {}, '107808': {}, '146669': {}, '121882': {}, '13754': {}, '104302': {}, '28327': {}, '126504': {}, '1081': {}, '922': {}, '68588': {}, '131436': {}, '153554': {}, '104720': {}, '55207': {}, '133329': {}, '40490': {}, '61730': {}, '78188': {}, '100476': {}, '134205': {}, '167533': {}, '23378': {}, '142087': {}, '103558': {}, '144687': {}})"
      ]
     },
     "execution_count": 14,
     "metadata": {},
     "output_type": "execute_result"
    }
   ],
   "source": [
    "G['1']"
   ]
  },
  {
   "cell_type": "code",
   "execution_count": 17,
   "metadata": {},
   "outputs": [
    {
     "name": "stdout",
     "output_type": "stream",
     "text": [
      "141493 58736 140703 151401 157118 125430 3635 495 116648 1679 123861 89631 113417 145281 10408 3181 40675 95914 155127 124827 16783 122269 87516 106969 10372 66893 75403 143081 44326 95697 48850 59892 159097 63150 90148 78899 30520 54230 90697\n"
     ]
    }
   ],
   "source": [
    "print(*list(G.neighbors('98343')), sep=\" \")"
   ]
  },
  {
   "cell_type": "markdown",
   "metadata": {},
   "source": []
  }
 ],
 "metadata": {
  "interpreter": {
   "hash": "f2434778dac096c16cab11d7ff844b43ecccf62bf80c2109175841e5bc87a9d4"
  },
  "kernelspec": {
   "display_name": "Python 3.9.12 ('SAN')",
   "language": "python",
   "name": "python3"
  },
  "language_info": {
   "codemirror_mode": {
    "name": "ipython",
    "version": 3
   },
   "file_extension": ".py",
   "mimetype": "text/x-python",
   "name": "python",
   "nbconvert_exporter": "python",
   "pygments_lexer": "ipython3",
   "version": "3.9.12"
  },
  "orig_nbformat": 4
 },
 "nbformat": 4,
 "nbformat_minor": 2
}
