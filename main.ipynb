{
 "cells": [
  {
   "cell_type": "markdown",
   "metadata": {},
   "source": [
    "### Dataset by:\n",
    "```\n",
    "@misc{rozemberczki2021twitch,\n",
    "      title={Twitch Gamers: a Dataset for Evaluating Proximity Preserving and Structural Role-based Node Embeddings}, \n",
    "      author={Benedek Rozemberczki and Rik Sarkar},\n",
    "      year={2021},\n",
    "      eprint={2101.03091},\n",
    "      archivePrefix={arXiv},\n",
    "      primaryClass={cs.SI}\n",
    "}\n",
    "```"
   ]
  },
  {
   "cell_type": "markdown",
   "metadata": {},
   "source": [
    "### Social Network Analysis of Twitch Partners\n",
    "A social network of Twitch users which was collected from the public API in Spring 2018. Nodes are Twitch users and edges are mutual follower relationships between them. The graph forms a single strongly connected component without missing attributes. The machine learning tasks related to the graph are count data regression and node classification."
   ]
  },
  {
   "cell_type": "code",
   "execution_count": 1,
   "metadata": {},
   "outputs": [],
   "source": [
    "import networkx as nx   \n",
    "import pandas as pd\n",
    "import numpy as np\n",
    "import seaborn as sns\n",
    "import matplotlib.pyplot as plt"
   ]
  },
  {
   "cell_type": "markdown",
   "metadata": {},
   "source": [
    "## Netzwerk einlesen und in NetworkX abbilden"
   ]
  },
  {
   "cell_type": "code",
   "execution_count": 2,
   "metadata": {},
   "outputs": [],
   "source": [
    "# Netzwerk einlesen\n",
    "fh = open(\"data/large_twitch_edges.csv\", \"rb\")\n",
    "G = nx.read_edgelist(fh, delimiter=',')\n",
    "fh.close()"
   ]
  },
  {
   "cell_type": "code",
   "execution_count": 3,
   "metadata": {},
   "outputs": [],
   "source": [
    "# Remove header nodes\n",
    "G.remove_node('numeric_id_1')\n",
    "G.remove_node('numeric_id_2')"
   ]
  },
  {
   "cell_type": "markdown",
   "metadata": {},
   "source": [
    "### Manuelle Überprüfung, ob das Netz korrekt eingelesen wurde"
   ]
  },
  {
   "cell_type": "code",
   "execution_count": 4,
   "metadata": {},
   "outputs": [
    {
     "data": {
      "text/html": [
       "<div>\n",
       "<style scoped>\n",
       "    .dataframe tbody tr th:only-of-type {\n",
       "        vertical-align: middle;\n",
       "    }\n",
       "\n",
       "    .dataframe tbody tr th {\n",
       "        vertical-align: top;\n",
       "    }\n",
       "\n",
       "    .dataframe thead th {\n",
       "        text-align: right;\n",
       "    }\n",
       "</style>\n",
       "<table border=\"1\" class=\"dataframe\">\n",
       "  <thead>\n",
       "    <tr style=\"text-align: right;\">\n",
       "      <th></th>\n",
       "      <th>numeric_id_1</th>\n",
       "      <th>numeric_id_2</th>\n",
       "    </tr>\n",
       "  </thead>\n",
       "  <tbody>\n",
       "    <tr>\n",
       "      <th>0</th>\n",
       "      <td>98343</td>\n",
       "      <td>141493</td>\n",
       "    </tr>\n",
       "    <tr>\n",
       "      <th>1</th>\n",
       "      <td>98343</td>\n",
       "      <td>58736</td>\n",
       "    </tr>\n",
       "    <tr>\n",
       "      <th>2</th>\n",
       "      <td>98343</td>\n",
       "      <td>140703</td>\n",
       "    </tr>\n",
       "    <tr>\n",
       "      <th>3</th>\n",
       "      <td>98343</td>\n",
       "      <td>151401</td>\n",
       "    </tr>\n",
       "    <tr>\n",
       "      <th>4</th>\n",
       "      <td>98343</td>\n",
       "      <td>157118</td>\n",
       "    </tr>\n",
       "  </tbody>\n",
       "</table>\n",
       "</div>"
      ],
      "text/plain": [
       "  numeric_id_1 numeric_id_2\n",
       "0        98343       141493\n",
       "1        98343        58736\n",
       "2        98343       140703\n",
       "3        98343       151401\n",
       "4        98343       157118"
      ]
     },
     "execution_count": 4,
     "metadata": {},
     "output_type": "execute_result"
    }
   ],
   "source": [
    "edge_list = pd.read_csv('data/large_twitch_edges.csv').astype(str)\n",
    "edge_list.head()"
   ]
  },
  {
   "cell_type": "code",
   "execution_count": 5,
   "metadata": {},
   "outputs": [],
   "source": [
    "# Überprüfung, ob die Nachbarn von 98343 korrekt abgebildet wurden.\n",
    "assert set(G.neighbors('98343')) == set(edge_list[edge_list.numeric_id_1=='98343'].numeric_id_2), \"Neighbors of 98343 are not correct.\""
   ]
  },
  {
   "cell_type": "markdown",
   "metadata": {},
   "source": [
    "## EDA auf Knotenattributen und Netzwerkgrösse\n",
    "### Netzwerkgrösse"
   ]
  },
  {
   "cell_type": "code",
   "execution_count": 6,
   "metadata": {},
   "outputs": [
    {
     "name": "stdout",
     "output_type": "stream",
     "text": [
      "Anzahl Knoten: 168114\n",
      "Anzahl Kanten: 6797557\n",
      "Density: 0.00048103610439398153\n"
     ]
    }
   ],
   "source": [
    "print(f'Anzahl Knoten: {G.number_of_nodes()}')\n",
    "print(f'Anzahl Kanten: {G.number_of_edges()}')\n",
    "print(f'Density: {nx.density(G)}')"
   ]
  },
  {
   "cell_type": "markdown",
   "metadata": {},
   "source": [
    "Wir haben es also mit einem sehr grossen Netzwerk zu tun, welches aber wenig Kanten hat im Vergleich mit der Anzahl Knoten. Dies ergibt soweit Sinn, da eine Kante nur entsteht, wenn sich User gegenseitig followen. User, welche fast nur anderen zuschauen, werden wohl wenig Kanten haben, da diese eher selten gefollowed werden. Wir werden das Netzwerk nach gewissen Knotenattributen filtern, um die Prozessierung zu ermöglichen. "
   ]
  },
  {
   "cell_type": "markdown",
   "metadata": {},
   "source": [
    "### Knotenattribute"
   ]
  },
  {
   "cell_type": "code",
   "execution_count": 7,
   "metadata": {},
   "outputs": [],
   "source": [
    "features = pd.read_csv('data/large_twitch_features.csv')\n",
    "features.numeric_id = features.numeric_id.astype(str)"
   ]
  },
  {
   "cell_type": "code",
   "execution_count": 8,
   "metadata": {},
   "outputs": [
    {
     "data": {
      "text/plain": [
       "Index(['views', 'mature', 'life_time', 'created_at', 'updated_at',\n",
       "       'numeric_id', 'dead_account', 'language', 'affiliate'],\n",
       "      dtype='object')"
      ]
     },
     "execution_count": 8,
     "metadata": {},
     "output_type": "execute_result"
    }
   ],
   "source": [
    "features.columns"
   ]
  },
  {
   "cell_type": "markdown",
   "metadata": {},
   "source": [
    "Der Datensatz hat folgende Attribute:\n",
    "- `views`: Anzahl Views auf dem User / Channel\n",
    "- `mature`: Ob der Channel sich an Erwachsene richtet.\n",
    "- `life_time`: Anzahl Tage zwischen erstem Stream und letztem Stream.\n",
    "- `created_at`: Wann der User erstellt wurde\n",
    "- `updated_at`: Wann der User das letzte mal gestreamed hat.\n",
    "- `numeric_id`: Unique ID des Users\n",
    "- `dead_account`: Ob der Account deaktiviert wurde oder der User lange nicht aktiv war (~3 Monate)\n",
    "- `language`: Sprache des Users / Channel\n",
    "- `affiliate`: Ob der User ein Twitchpartner ist.\n"
   ]
  },
  {
   "cell_type": "code",
   "execution_count": 9,
   "metadata": {},
   "outputs": [
    {
     "data": {
      "text/plain": [
       "views           0\n",
       "mature          0\n",
       "life_time       0\n",
       "created_at      0\n",
       "updated_at      0\n",
       "numeric_id      0\n",
       "dead_account    0\n",
       "language        0\n",
       "affiliate       0\n",
       "dtype: int64"
      ]
     },
     "execution_count": 9,
     "metadata": {},
     "output_type": "execute_result"
    }
   ],
   "source": [
    "features.isna().sum()"
   ]
  },
  {
   "cell_type": "markdown",
   "metadata": {},
   "source": [
    "Im vorherigen Kapitel haben wir die Annahme getroffen, dass Twitch-Partner mehr Kanten haben als nicht-Partner. Wir können uns die Density von den zwei Subgruppen anschauen."
   ]
  },
  {
   "cell_type": "code",
   "execution_count": 10,
   "metadata": {},
   "outputs": [],
   "source": [
    "netzwerk_partner = nx.subgraph(G, features[features.affiliate==True].numeric_id.tolist())\n",
    "netzwerk_kein_partner = nx.subgraph(G, features[features.affiliate==False].numeric_id.tolist())"
   ]
  },
  {
   "cell_type": "code",
   "execution_count": 11,
   "metadata": {},
   "outputs": [
    {
     "name": "stdout",
     "output_type": "stream",
     "text": [
      "Density von Nicht-Partnern: 0.0006154880996428399\n"
     ]
    }
   ],
   "source": [
    "print(f'Density von Nicht-Partnern: {nx.density(netzwerk_kein_partner)}')"
   ]
  },
  {
   "cell_type": "code",
   "execution_count": 12,
   "metadata": {},
   "outputs": [
    {
     "name": "stdout",
     "output_type": "stream",
     "text": [
      "Density von Partnern: 0.0004175468251946277\n"
     ]
    }
   ],
   "source": [
    "print(f'Density von Partnern: {nx.density(netzwerk_partner)}')"
   ]
  },
  {
   "cell_type": "markdown",
   "metadata": {},
   "source": [
    "Das war nicht erwartet; Die Density von nicht-Partnern ist ca. 50% höher als von Partnern. Dies bedeutet, dass sich nicht-Partnern gegenseitiger häufiger folgen als Partner. Ändern sich diese Zahlen, wenn wir inaktive Accounts rausnehmen?"
   ]
  },
  {
   "cell_type": "code",
   "execution_count": 13,
   "metadata": {},
   "outputs": [],
   "source": [
    "netzwerk_aktiv = nx.subgraph(G, features[features.dead_account==False].numeric_id.tolist())\n",
    "netzwerk_aktiv_partner = nx.subgraph(netzwerk_aktiv, features[features.affiliate==True].numeric_id.tolist())\n",
    "netzwerk_aktiv_kein_partner = nx.subgraph(netzwerk_aktiv, features[features.affiliate==False].numeric_id.tolist())"
   ]
  },
  {
   "cell_type": "code",
   "execution_count": 14,
   "metadata": {},
   "outputs": [
    {
     "name": "stdout",
     "output_type": "stream",
     "text": [
      "Density von aktiven Nicht-Partnern: 0.0006735701234769484\n"
     ]
    }
   ],
   "source": [
    "print(f'Density von aktiven Nicht-Partnern: {nx.density(netzwerk_aktiv_kein_partner)}')"
   ]
  },
  {
   "cell_type": "code",
   "execution_count": 15,
   "metadata": {},
   "outputs": [
    {
     "name": "stdout",
     "output_type": "stream",
     "text": [
      "Density von aktiven Partnern: 0.00041792783234412354\n"
     ]
    }
   ],
   "source": [
    "print(f'Density von aktiven Partnern: {nx.density(netzwerk_aktiv_partner)}')"
   ]
  },
  {
   "cell_type": "markdown",
   "metadata": {},
   "source": [
    "Die Density nimmt zu, bei beiden, aber mehr bei den nicht-Partnern. Ergibt auch Sinn, da Partner wohl im Prinzip nicht inaktiv sein können. Dies lässt sich leicht überprüfen."
   ]
  },
  {
   "cell_type": "code",
   "execution_count": 16,
   "metadata": {},
   "outputs": [
    {
     "name": "stdout",
     "output_type": "stream",
     "text": [
      "Anteil Partner von inaktiven vs aktiven User:\n",
      "dead_account  affiliate\n",
      "0             0            81483\n",
      "              1            81472\n",
      "1             0             5085\n",
      "              1               74\n",
      "Name: affiliate, dtype: int64\n"
     ]
    }
   ],
   "source": [
    "print(f\"Anteil Partner von inaktiven vs aktiven User:\\n{features.groupby('dead_account')['affiliate'].value_counts()}\")"
   ]
  },
  {
   "cell_type": "markdown",
   "metadata": {},
   "source": [
    "Wie erwartet ist der Anteil von inaktiven Accounts bei Partnern tiefer (ca. 70x)."
   ]
  },
  {
   "cell_type": "markdown",
   "metadata": {},
   "source": [
    "#### Views\n",
    "Wir schauen uns nun das Attribut `views` an von aktiven Accounts, separat für Partner und nicht-Partner."
   ]
  },
  {
   "cell_type": "code",
   "execution_count": 17,
   "metadata": {},
   "outputs": [],
   "source": [
    "active_accounts = features[features.dead_account==False]\n",
    "views_active_no_partner = active_accounts[active_accounts.affiliate==False].views\n",
    "views_active_partner = active_accounts[active_accounts.affiliate==True].views"
   ]
  },
  {
   "cell_type": "code",
   "execution_count": 26,
   "metadata": {},
   "outputs": [
    {
     "name": "stdout",
     "output_type": "stream",
     "text": [
      "Mean views of active accounts without partner: 364752.97\n",
      "Mean views of active accounts with partner: 23299.74\n",
      "Median views of active accounts without partner: 1945.00\n",
      "Median views of active accounts with partner: 7469.00\n"
     ]
    }
   ],
   "source": [
    "# Print mean and median for views of active accounts without partner and with partner\n",
    "print(f\"Mean views of active accounts without partner: {views_active_no_partner.mean():.2f}\")\n",
    "print(f\"Mean views of active accounts with partner: {views_active_partner.mean():.2f}\")\n",
    "print(f\"Median views of active accounts without partner: {views_active_no_partner.median():.2f}\")\n",
    "print(f\"Median views of active accounts with partner: {views_active_partner.median():.2f}\")"
   ]
  },
  {
   "cell_type": "markdown",
   "metadata": {},
   "source": [
    "Sehr interessant! Wieder unerwartet. Im Durchschnitt hat ein Partner ca. 15x mehr Views als Nicht-Partner. Wenn wir uns aber den Median anschauen, ist das Bild anders; hier hat ein Partner im Median ca. 4x soviele Views. Es scheint so, als hätten Nicht-Partner massive Aussreisser in den Views. Dies können wir mit einem Boxplot bestätigen:"
   ]
  },
  {
   "cell_type": "code",
   "execution_count": 31,
   "metadata": {},
   "outputs": [
    {
     "data": {
      "image/png": "[encoded data removed]",
      "text/plain": [
       "<Figure size 432x288 with 1 Axes>"
      ]
     },
     "metadata": {
      "needs_background": "light"
     },
     "output_type": "display_data"
    }
   ],
   "source": [
    "sns.boxplot(x='affiliate', y='views', data=active_accounts)\n",
    "plt.title('Boxplot der Views von aktiven Accounts')\n",
    "plt.show()"
   ]
  },
  {
   "cell_type": "markdown",
   "metadata": {},
   "source": [
    "Wir können uns noch die Top 30 anschauen und sehen, dass von den Top 30 Views niemand gepartnert ist mit Twitch."
   ]
  },
  {
   "cell_type": "code",
   "execution_count": 42,
   "metadata": {},
   "outputs": [
    {
     "data": {
      "text/html": [
       "<div>\n",
       "<style scoped>\n",
       "    .dataframe tbody tr th:only-of-type {\n",
       "        vertical-align: middle;\n",
       "    }\n",
       "\n",
       "    .dataframe tbody tr th {\n",
       "        vertical-align: top;\n",
       "    }\n",
       "\n",
       "    .dataframe thead th {\n",
       "        text-align: right;\n",
       "    }\n",
       "</style>\n",
       "<table border=\"1\" class=\"dataframe\">\n",
       "  <thead>\n",
       "    <tr style=\"text-align: right;\">\n",
       "      <th></th>\n",
       "      <th>views</th>\n",
       "      <th>mature</th>\n",
       "      <th>life_time</th>\n",
       "      <th>created_at</th>\n",
       "      <th>updated_at</th>\n",
       "      <th>numeric_id</th>\n",
       "      <th>dead_account</th>\n",
       "      <th>language</th>\n",
       "      <th>affiliate</th>\n",
       "    </tr>\n",
       "  </thead>\n",
       "  <tbody>\n",
       "    <tr>\n",
       "      <th>96473</th>\n",
       "      <td>384396587</td>\n",
       "      <td>0</td>\n",
       "      <td>2416</td>\n",
       "      <td>2012-03-01</td>\n",
       "      <td>2018-10-12</td>\n",
       "      <td>96473</td>\n",
       "      <td>0</td>\n",
       "      <td>RU</td>\n",
       "      <td>0</td>\n",
       "    </tr>\n",
       "    <tr>\n",
       "      <th>129896</th>\n",
       "      <td>368912220</td>\n",
       "      <td>0</td>\n",
       "      <td>2379</td>\n",
       "      <td>2012-04-07</td>\n",
       "      <td>2018-10-12</td>\n",
       "      <td>129896</td>\n",
       "      <td>0</td>\n",
       "      <td>EN</td>\n",
       "      <td>0</td>\n",
       "    </tr>\n",
       "    <tr>\n",
       "      <th>61862</th>\n",
       "      <td>340602050</td>\n",
       "      <td>0</td>\n",
       "      <td>2826</td>\n",
       "      <td>2011-01-16</td>\n",
       "      <td>2018-10-12</td>\n",
       "      <td>61862</td>\n",
       "      <td>0</td>\n",
       "      <td>EN</td>\n",
       "      <td>0</td>\n",
       "    </tr>\n",
       "    <tr>\n",
       "      <th>128864</th>\n",
       "      <td>297117159</td>\n",
       "      <td>0</td>\n",
       "      <td>2314</td>\n",
       "      <td>2012-06-11</td>\n",
       "      <td>2018-10-12</td>\n",
       "      <td>128864</td>\n",
       "      <td>0</td>\n",
       "      <td>EN</td>\n",
       "      <td>0</td>\n",
       "    </tr>\n",
       "    <tr>\n",
       "      <th>144643</th>\n",
       "      <td>294116493</td>\n",
       "      <td>0</td>\n",
       "      <td>2577</td>\n",
       "      <td>2011-09-22</td>\n",
       "      <td>2018-10-12</td>\n",
       "      <td>144643</td>\n",
       "      <td>0</td>\n",
       "      <td>EN</td>\n",
       "      <td>0</td>\n",
       "    </tr>\n",
       "    <tr>\n",
       "      <th>110345</th>\n",
       "      <td>264643346</td>\n",
       "      <td>0</td>\n",
       "      <td>2664</td>\n",
       "      <td>2011-06-27</td>\n",
       "      <td>2018-10-12</td>\n",
       "      <td>110345</td>\n",
       "      <td>0</td>\n",
       "      <td>EN</td>\n",
       "      <td>0</td>\n",
       "    </tr>\n",
       "    <tr>\n",
       "      <th>125642</th>\n",
       "      <td>243451177</td>\n",
       "      <td>0</td>\n",
       "      <td>2507</td>\n",
       "      <td>2011-12-01</td>\n",
       "      <td>2018-10-12</td>\n",
       "      <td>125642</td>\n",
       "      <td>0</td>\n",
       "      <td>EN</td>\n",
       "      <td>0</td>\n",
       "    </tr>\n",
       "    <tr>\n",
       "      <th>64605</th>\n",
       "      <td>240718261</td>\n",
       "      <td>1</td>\n",
       "      <td>2516</td>\n",
       "      <td>2011-11-22</td>\n",
       "      <td>2018-10-12</td>\n",
       "      <td>64605</td>\n",
       "      <td>0</td>\n",
       "      <td>EN</td>\n",
       "      <td>0</td>\n",
       "    </tr>\n",
       "    <tr>\n",
       "      <th>71050</th>\n",
       "      <td>218559516</td>\n",
       "      <td>0</td>\n",
       "      <td>2169</td>\n",
       "      <td>2012-11-03</td>\n",
       "      <td>2018-10-12</td>\n",
       "      <td>71050</td>\n",
       "      <td>0</td>\n",
       "      <td>EN</td>\n",
       "      <td>0</td>\n",
       "    </tr>\n",
       "    <tr>\n",
       "      <th>161362</th>\n",
       "      <td>213931993</td>\n",
       "      <td>0</td>\n",
       "      <td>2359</td>\n",
       "      <td>2012-04-27</td>\n",
       "      <td>2018-10-12</td>\n",
       "      <td>161362</td>\n",
       "      <td>0</td>\n",
       "      <td>EN</td>\n",
       "      <td>0</td>\n",
       "    </tr>\n",
       "    <tr>\n",
       "      <th>52703</th>\n",
       "      <td>206941623</td>\n",
       "      <td>0</td>\n",
       "      <td>4161</td>\n",
       "      <td>2007-05-22</td>\n",
       "      <td>2018-10-12</td>\n",
       "      <td>52703</td>\n",
       "      <td>0</td>\n",
       "      <td>EN</td>\n",
       "      <td>0</td>\n",
       "    </tr>\n",
       "    <tr>\n",
       "      <th>26309</th>\n",
       "      <td>203471447</td>\n",
       "      <td>0</td>\n",
       "      <td>2371</td>\n",
       "      <td>2012-04-15</td>\n",
       "      <td>2018-10-12</td>\n",
       "      <td>26309</td>\n",
       "      <td>0</td>\n",
       "      <td>EN</td>\n",
       "      <td>0</td>\n",
       "    </tr>\n",
       "    <tr>\n",
       "      <th>158403</th>\n",
       "      <td>202252218</td>\n",
       "      <td>0</td>\n",
       "      <td>2359</td>\n",
       "      <td>2012-04-27</td>\n",
       "      <td>2018-10-12</td>\n",
       "      <td>158403</td>\n",
       "      <td>0</td>\n",
       "      <td>EN</td>\n",
       "      <td>0</td>\n",
       "    </tr>\n",
       "    <tr>\n",
       "      <th>32338</th>\n",
       "      <td>202142952</td>\n",
       "      <td>0</td>\n",
       "      <td>2702</td>\n",
       "      <td>2011-05-20</td>\n",
       "      <td>2018-10-12</td>\n",
       "      <td>32338</td>\n",
       "      <td>0</td>\n",
       "      <td>EN</td>\n",
       "      <td>0</td>\n",
       "    </tr>\n",
       "    <tr>\n",
       "      <th>125828</th>\n",
       "      <td>179513429</td>\n",
       "      <td>0</td>\n",
       "      <td>2422</td>\n",
       "      <td>2012-02-24</td>\n",
       "      <td>2018-10-12</td>\n",
       "      <td>125828</td>\n",
       "      <td>0</td>\n",
       "      <td>ZH</td>\n",
       "      <td>0</td>\n",
       "    </tr>\n",
       "    <tr>\n",
       "      <th>152394</th>\n",
       "      <td>178500544</td>\n",
       "      <td>0</td>\n",
       "      <td>2443</td>\n",
       "      <td>2012-02-03</td>\n",
       "      <td>2018-10-12</td>\n",
       "      <td>152394</td>\n",
       "      <td>0</td>\n",
       "      <td>EN</td>\n",
       "      <td>0</td>\n",
       "    </tr>\n",
       "    <tr>\n",
       "      <th>2050</th>\n",
       "      <td>177293299</td>\n",
       "      <td>0</td>\n",
       "      <td>1987</td>\n",
       "      <td>2013-05-04</td>\n",
       "      <td>2018-10-12</td>\n",
       "      <td>2050</td>\n",
       "      <td>0</td>\n",
       "      <td>ZH</td>\n",
       "      <td>0</td>\n",
       "    </tr>\n",
       "    <tr>\n",
       "      <th>63518</th>\n",
       "      <td>160422474</td>\n",
       "      <td>0</td>\n",
       "      <td>2305</td>\n",
       "      <td>2012-06-20</td>\n",
       "      <td>2018-10-12</td>\n",
       "      <td>63518</td>\n",
       "      <td>0</td>\n",
       "      <td>EN</td>\n",
       "      <td>0</td>\n",
       "    </tr>\n",
       "    <tr>\n",
       "      <th>39372</th>\n",
       "      <td>133196253</td>\n",
       "      <td>1</td>\n",
       "      <td>2440</td>\n",
       "      <td>2012-02-06</td>\n",
       "      <td>2018-10-12</td>\n",
       "      <td>39372</td>\n",
       "      <td>0</td>\n",
       "      <td>EN</td>\n",
       "      <td>0</td>\n",
       "    </tr>\n",
       "    <tr>\n",
       "      <th>52552</th>\n",
       "      <td>123729653</td>\n",
       "      <td>0</td>\n",
       "      <td>2196</td>\n",
       "      <td>2012-10-07</td>\n",
       "      <td>2018-10-12</td>\n",
       "      <td>52552</td>\n",
       "      <td>0</td>\n",
       "      <td>PL</td>\n",
       "      <td>0</td>\n",
       "    </tr>\n",
       "    <tr>\n",
       "      <th>31982</th>\n",
       "      <td>121384763</td>\n",
       "      <td>0</td>\n",
       "      <td>1030</td>\n",
       "      <td>2015-12-17</td>\n",
       "      <td>2018-10-12</td>\n",
       "      <td>31982</td>\n",
       "      <td>0</td>\n",
       "      <td>EN</td>\n",
       "      <td>0</td>\n",
       "    </tr>\n",
       "    <tr>\n",
       "      <th>40868</th>\n",
       "      <td>120307739</td>\n",
       "      <td>1</td>\n",
       "      <td>2787</td>\n",
       "      <td>2011-02-24</td>\n",
       "      <td>2018-10-12</td>\n",
       "      <td>40868</td>\n",
       "      <td>0</td>\n",
       "      <td>EN</td>\n",
       "      <td>0</td>\n",
       "    </tr>\n",
       "    <tr>\n",
       "      <th>70350</th>\n",
       "      <td>117655872</td>\n",
       "      <td>1</td>\n",
       "      <td>2319</td>\n",
       "      <td>2012-06-06</td>\n",
       "      <td>2018-10-12</td>\n",
       "      <td>70350</td>\n",
       "      <td>0</td>\n",
       "      <td>RU</td>\n",
       "      <td>0</td>\n",
       "    </tr>\n",
       "    <tr>\n",
       "      <th>128589</th>\n",
       "      <td>116392808</td>\n",
       "      <td>0</td>\n",
       "      <td>1896</td>\n",
       "      <td>2013-08-03</td>\n",
       "      <td>2018-10-12</td>\n",
       "      <td>128589</td>\n",
       "      <td>0</td>\n",
       "      <td>PT</td>\n",
       "      <td>0</td>\n",
       "    </tr>\n",
       "    <tr>\n",
       "      <th>58493</th>\n",
       "      <td>115083137</td>\n",
       "      <td>0</td>\n",
       "      <td>2993</td>\n",
       "      <td>2010-08-02</td>\n",
       "      <td>2018-10-12</td>\n",
       "      <td>58493</td>\n",
       "      <td>0</td>\n",
       "      <td>EN</td>\n",
       "      <td>0</td>\n",
       "    </tr>\n",
       "    <tr>\n",
       "      <th>73213</th>\n",
       "      <td>110913108</td>\n",
       "      <td>1</td>\n",
       "      <td>3452</td>\n",
       "      <td>2009-04-30</td>\n",
       "      <td>2018-10-12</td>\n",
       "      <td>73213</td>\n",
       "      <td>0</td>\n",
       "      <td>EN</td>\n",
       "      <td>0</td>\n",
       "    </tr>\n",
       "    <tr>\n",
       "      <th>59951</th>\n",
       "      <td>110131156</td>\n",
       "      <td>0</td>\n",
       "      <td>2356</td>\n",
       "      <td>2012-04-30</td>\n",
       "      <td>2018-10-12</td>\n",
       "      <td>59951</td>\n",
       "      <td>0</td>\n",
       "      <td>EN</td>\n",
       "      <td>0</td>\n",
       "    </tr>\n",
       "    <tr>\n",
       "      <th>56294</th>\n",
       "      <td>108432615</td>\n",
       "      <td>0</td>\n",
       "      <td>1479</td>\n",
       "      <td>2014-09-24</td>\n",
       "      <td>2018-10-12</td>\n",
       "      <td>56294</td>\n",
       "      <td>0</td>\n",
       "      <td>FR</td>\n",
       "      <td>0</td>\n",
       "    </tr>\n",
       "    <tr>\n",
       "      <th>123018</th>\n",
       "      <td>108115325</td>\n",
       "      <td>0</td>\n",
       "      <td>584</td>\n",
       "      <td>2017-03-07</td>\n",
       "      <td>2018-10-12</td>\n",
       "      <td>123018</td>\n",
       "      <td>0</td>\n",
       "      <td>EN</td>\n",
       "      <td>0</td>\n",
       "    </tr>\n",
       "    <tr>\n",
       "      <th>88518</th>\n",
       "      <td>105836759</td>\n",
       "      <td>0</td>\n",
       "      <td>2279</td>\n",
       "      <td>2012-07-16</td>\n",
       "      <td>2018-10-12</td>\n",
       "      <td>88518</td>\n",
       "      <td>0</td>\n",
       "      <td>EN</td>\n",
       "      <td>0</td>\n",
       "    </tr>\n",
       "  </tbody>\n",
       "</table>\n",
       "</div>"
      ],
      "text/plain": [
       "            views  mature  life_time  created_at  updated_at numeric_id  \\\n",
       "96473   384396587       0       2416  2012-03-01  2018-10-12      96473   \n",
       "129896  368912220       0       2379  2012-04-07  2018-10-12     129896   \n",
       "61862   340602050       0       2826  2011-01-16  2018-10-12      61862   \n",
       "128864  297117159       0       2314  2012-06-11  2018-10-12     128864   \n",
       "144643  294116493       0       2577  2011-09-22  2018-10-12     144643   \n",
       "110345  264643346       0       2664  2011-06-27  2018-10-12     110345   \n",
       "125642  243451177       0       2507  2011-12-01  2018-10-12     125642   \n",
       "64605   240718261       1       2516  2011-11-22  2018-10-12      64605   \n",
       "71050   218559516       0       2169  2012-11-03  2018-10-12      71050   \n",
       "161362  213931993       0       2359  2012-04-27  2018-10-12     161362   \n",
       "52703   206941623       0       4161  2007-05-22  2018-10-12      52703   \n",
       "26309   203471447       0       2371  2012-04-15  2018-10-12      26309   \n",
       "158403  202252218       0       2359  2012-04-27  2018-10-12     158403   \n",
       "32338   202142952       0       2702  2011-05-20  2018-10-12      32338   \n",
       "125828  179513429       0       2422  2012-02-24  2018-10-12     125828   \n",
       "152394  178500544       0       2443  2012-02-03  2018-10-12     152394   \n",
       "2050    177293299       0       1987  2013-05-04  2018-10-12       2050   \n",
       "63518   160422474       0       2305  2012-06-20  2018-10-12      63518   \n",
       "39372   133196253       1       2440  2012-02-06  2018-10-12      39372   \n",
       "52552   123729653       0       2196  2012-10-07  2018-10-12      52552   \n",
       "31982   121384763       0       1030  2015-12-17  2018-10-12      31982   \n",
       "40868   120307739       1       2787  2011-02-24  2018-10-12      40868   \n",
       "70350   117655872       1       2319  2012-06-06  2018-10-12      70350   \n",
       "128589  116392808       0       1896  2013-08-03  2018-10-12     128589   \n",
       "58493   115083137       0       2993  2010-08-02  2018-10-12      58493   \n",
       "73213   110913108       1       3452  2009-04-30  2018-10-12      73213   \n",
       "59951   110131156       0       2356  2012-04-30  2018-10-12      59951   \n",
       "56294   108432615       0       1479  2014-09-24  2018-10-12      56294   \n",
       "123018  108115325       0        584  2017-03-07  2018-10-12     123018   \n",
       "88518   105836759       0       2279  2012-07-16  2018-10-12      88518   \n",
       "\n",
       "        dead_account language  affiliate  \n",
       "96473              0       RU          0  \n",
       "129896             0       EN          0  \n",
       "61862              0       EN          0  \n",
       "128864             0       EN          0  \n",
       "144643             0       EN          0  \n",
       "110345             0       EN          0  \n",
       "125642             0       EN          0  \n",
       "64605              0       EN          0  \n",
       "71050              0       EN          0  \n",
       "161362             0       EN          0  \n",
       "52703              0       EN          0  \n",
       "26309              0       EN          0  \n",
       "158403             0       EN          0  \n",
       "32338              0       EN          0  \n",
       "125828             0       ZH          0  \n",
       "152394             0       EN          0  \n",
       "2050               0       ZH          0  \n",
       "63518              0       EN          0  \n",
       "39372              0       EN          0  \n",
       "52552              0       PL          0  \n",
       "31982              0       EN          0  \n",
       "40868              0       EN          0  \n",
       "70350              0       RU          0  \n",
       "128589             0       PT          0  \n",
       "58493              0       EN          0  \n",
       "73213              0       EN          0  \n",
       "59951              0       EN          0  \n",
       "56294              0       FR          0  \n",
       "123018             0       EN          0  \n",
       "88518              0       EN          0  "
      ]
     },
     "execution_count": 42,
     "metadata": {},
     "output_type": "execute_result"
    }
   ],
   "source": [
    "active_accounts.sort_values(by='views', ascending=False).head(30)"
   ]
  },
  {
   "cell_type": "markdown",
   "metadata": {},
   "source": [
    "Eine gute Erklärung habe ich dafür nicht, es wäre aber Möglich, über das Datum der Usererstellung ein Mapping zu machen zwischen der uniquen ID und dem richtigen Namen und dann mehr herausfinden zu können, warum die Channels mit den meisten User von nicht-Partnern sind.\n",
    "\n",
    "Beispiel [Tyler1](https://twitchtracker.com/loltyler1):\n",
    "\n",
    "- Tyler1 hat seinen User am 14.11.2013 erstellt.\n",
    "- Er spricht Englisch.\n",
    "- Er war da wohl wahrscheinlich schon Partner.\n",
    "- Er hatte Ende 2018 mehr als 80 Millionen Views.\n",
    "\n",
    "\n",
    "Wir können nun nach diesem User filtern:"
   ]
  },
  {
   "cell_type": "code",
   "execution_count": 54,
   "metadata": {},
   "outputs": [
    {
     "data": {
      "text/html": [
       "<div>\n",
       "<style scoped>\n",
       "    .dataframe tbody tr th:only-of-type {\n",
       "        vertical-align: middle;\n",
       "    }\n",
       "\n",
       "    .dataframe tbody tr th {\n",
       "        vertical-align: top;\n",
       "    }\n",
       "\n",
       "    .dataframe thead th {\n",
       "        text-align: right;\n",
       "    }\n",
       "</style>\n",
       "<table border=\"1\" class=\"dataframe\">\n",
       "  <thead>\n",
       "    <tr style=\"text-align: right;\">\n",
       "      <th></th>\n",
       "      <th>views</th>\n",
       "      <th>mature</th>\n",
       "      <th>life_time</th>\n",
       "      <th>created_at</th>\n",
       "      <th>updated_at</th>\n",
       "      <th>numeric_id</th>\n",
       "      <th>dead_account</th>\n",
       "      <th>language</th>\n",
       "      <th>affiliate</th>\n",
       "    </tr>\n",
       "  </thead>\n",
       "  <tbody>\n",
       "    <tr>\n",
       "      <th>6250</th>\n",
       "      <td>84804681</td>\n",
       "      <td>1</td>\n",
       "      <td>1793</td>\n",
       "      <td>2013-11-14</td>\n",
       "      <td>2018-10-12</td>\n",
       "      <td>6250</td>\n",
       "      <td>0</td>\n",
       "      <td>EN</td>\n",
       "      <td>0</td>\n",
       "    </tr>\n",
       "  </tbody>\n",
       "</table>\n",
       "</div>"
      ],
      "text/plain": [
       "         views  mature  life_time  created_at  updated_at numeric_id  \\\n",
       "6250  84804681       1       1793  2013-11-14  2018-10-12       6250   \n",
       "\n",
       "      dead_account language  affiliate  \n",
       "6250             0       EN          0  "
      ]
     },
     "execution_count": 54,
     "metadata": {},
     "output_type": "execute_result"
    }
   ],
   "source": [
    "active_accounts[\n",
    "    (active_accounts.created_at=='2013-11-14') &\n",
    "    (active_accounts.language=='EN') &\n",
    "    (active_accounts.views > 80000000)\n",
    "    ]"
   ]
  },
  {
   "cell_type": "markdown",
   "metadata": {},
   "source": [
    "Somit entspricht die `numeric_id` 6250 wohl Tyler1. Gewisse Sachen haben sich aber geändert: Jetzt ist der Channel von Tyler1 nicht mehr an Erwachsene gerichtet. Ebenfalls war er Ende 2018 noch nicht Partner. Ich kann mich aber erinnern, dass Tyler1 [gebannt](https://web.archive.org/web/20190417084311/https://support.riotgames.com/hc/en-us/articles/115013815928-Understanding-ID-Bans) wurde in diesem Zeitrahmen (~2017/18) und danach wurde sein Account wieder freigeschaltet, hat aber wahrscheinlich seinen Partner-Status verloren."
   ]
  },
  {
   "cell_type": "markdown",
   "metadata": {},
   "source": []
  }
 ],
 "metadata": {
  "interpreter": {
   "hash": "f2434778dac096c16cab11d7ff844b43ecccf62bf80c2109175841e5bc87a9d4"
  },
  "kernelspec": {
   "display_name": "Python 3.9.12 ('SAN')",
   "language": "python",
   "name": "python3"
  },
  "language_info": {
   "codemirror_mode": {
    "name": "ipython",
    "version": 3
   },
   "file_extension": ".py",
   "mimetype": "text/x-python",
   "name": "python",
   "nbconvert_exporter": "python",
   "pygments_lexer": "ipython3",
   "version": "3.9.12"
  },
  "orig_nbformat": 4
 },
 "nbformat": 4,
 "nbformat_minor": 2
}
