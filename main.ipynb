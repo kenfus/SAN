{
 "cells": [
  {
   "cell_type": "markdown",
   "metadata": {},
   "source": [
    "### Dataset by:\n",
    "```\n",
    "@misc{https://doi.org/10.48550/arxiv.2101.03091,\n",
    "  doi = {10.48550/ARXIV.2101.03091},  \n",
    "  url = {https://arxiv.org/abs/2101.03091},  \n",
    "  author = {Rozemberczki, Benedek and Sarkar, Rik},  \n",
    "  keywords = {Social and Information Networks (cs.SI), Artificial Intelligence (cs.AI), Machine Learning (cs.LG), FOS: Computer and information sciences, FOS: Computer and information sciences},  \n",
    "  title = {Twitch Gamers: a Dataset for Evaluating Proximity Preserving and Structural Role-based Node Embeddings},  \n",
    "  publisher = {arXiv},  \n",
    "  year = {2021},\n",
    "  copyright = {Creative Commons Attribution 4.0 International}\n",
    "}\n",
    "\n",
    "```\n",
    "https://arxiv.org/abs/2101.03091"
   ]
  },
  {
   "cell_type": "markdown",
   "metadata": {},
   "source": [
    "### THE TWITCH GAMERS DATASET\n",
    "Twitch is a streaming service where users can broadcast live streams\n",
    "of playing computer games. As users can follow each other there\n",
    "is an underlying social network which can be accessed through the\n",
    "public API. In 2018 April we crawled the largest connected component of this social network with snowball sampling starting from\n",
    "the user called Lowko. We released Twitch Gamers dataset is a\n",
    "clean subset of the original social network. We filtered out nodes\n",
    "and edges based on the following principled steps:\n",
    "\n",
    "(1) No missing attributes. We only kept nodes that have all\n",
    "of the vertex attributes present.\n",
    "\n",
    "(2) Mutual relationships. We discarded relationships which\n",
    "are asymmetric and only included mutual edges in the released dataset.\n",
    "\n",
    "(3) Member of the largest component. We only considered nodes which are part of the largest connected com-\n",
    "ponent\n",
    "\n",
    "*Quelle:* https://arxiv.org/abs/2101.03091"
   ]
  },
  {
   "cell_type": "code",
   "execution_count": 128,
   "metadata": {},
   "outputs": [],
   "source": [
    "import networkx as nx   \n",
    "import pandas as pd\n",
    "import numpy as np\n",
    "import seaborn as sns\n",
    "import matplotlib.pyplot as plt"
   ]
  },
  {
   "cell_type": "markdown",
   "metadata": {},
   "source": [
    "## Netzwerk einlesen und in NetworkX abbilden"
   ]
  },
  {
   "cell_type": "code",
   "execution_count": 129,
   "metadata": {},
   "outputs": [
    {
     "name": "stdout",
     "output_type": "stream",
     "text": [
      "Unexpected exception formatting exception. Falling back to standard exception\n"
     ]
    },
    {
     "name": "stderr",
     "output_type": "stream",
     "text": [
      "Traceback (most recent call last):\n",
      "  File \"c:\\Users\\vince\\anaconda3\\envs\\SAN\\lib\\site-packages\\IPython\\core\\interactiveshell.py\", line 3369, in run_code\n",
      "    exec(code_obj, self.user_global_ns, self.user_ns)\n",
      "  File \"C:\\Users\\vince\\AppData\\Local\\Temp\\ipykernel_5000\\2417018289.py\", line 3, in <cell line: 3>\n",
      "    G = nx.read_edgelist(fh, delimiter=',')\n",
      "  File \"<class 'networkx.utils.decorators.argmap'> compilation 5\", line 5, in argmap_read_edgelist_1\n",
      "  File \"c:\\Users\\vince\\anaconda3\\envs\\SAN\\lib\\site-packages\\networkx\\readwrite\\edgelist.py\", line 376, in read_edgelist\n",
      "    return parse_edgelist(\n",
      "  File \"c:\\Users\\vince\\anaconda3\\envs\\SAN\\lib\\site-packages\\networkx\\readwrite\\edgelist.py\", line 241, in parse_edgelist\n",
      "    for line in lines:\n",
      "  File \"c:\\Users\\vince\\anaconda3\\envs\\SAN\\lib\\site-packages\\networkx\\readwrite\\edgelist.py\", line 375, in <genexpr>\n",
      "    lines = (line if isinstance(line, str) else line.decode(encoding) for line in path)\n",
      "KeyboardInterrupt\n",
      "\n",
      "During handling of the above exception, another exception occurred:\n",
      "\n",
      "Traceback (most recent call last):\n",
      "  File \"c:\\Users\\vince\\anaconda3\\envs\\SAN\\lib\\site-packages\\IPython\\core\\interactiveshell.py\", line 1982, in showtraceback\n",
      "    stb = self.InteractiveTB.structured_traceback(\n",
      "  File \"c:\\Users\\vince\\anaconda3\\envs\\SAN\\lib\\site-packages\\IPython\\core\\ultratb.py\", line 1118, in structured_traceback\n",
      "    return FormattedTB.structured_traceback(\n",
      "  File \"c:\\Users\\vince\\anaconda3\\envs\\SAN\\lib\\site-packages\\IPython\\core\\ultratb.py\", line 1012, in structured_traceback\n",
      "    return VerboseTB.structured_traceback(\n",
      "  File \"c:\\Users\\vince\\anaconda3\\envs\\SAN\\lib\\site-packages\\IPython\\core\\ultratb.py\", line 865, in structured_traceback\n",
      "    formatted_exception = self.format_exception_as_a_whole(etype, evalue, etb, number_of_lines_of_context,\n",
      "  File \"c:\\Users\\vince\\anaconda3\\envs\\SAN\\lib\\site-packages\\IPython\\core\\ultratb.py\", line 818, in format_exception_as_a_whole\n",
      "    frames.append(self.format_record(r))\n",
      "  File \"c:\\Users\\vince\\anaconda3\\envs\\SAN\\lib\\site-packages\\IPython\\core\\ultratb.py\", line 736, in format_record\n",
      "    result += ''.join(_format_traceback_lines(frame_info.lines, Colors, self.has_colors, lvals))\n",
      "  File \"c:\\Users\\vince\\anaconda3\\envs\\SAN\\lib\\site-packages\\stack_data\\utils.py\", line 145, in cached_property_wrapper\n",
      "    value = obj.__dict__[self.func.__name__] = self.func(obj)\n",
      "  File \"c:\\Users\\vince\\anaconda3\\envs\\SAN\\lib\\site-packages\\stack_data\\core.py\", line 698, in lines\n",
      "    pieces = self.included_pieces\n",
      "  File \"c:\\Users\\vince\\anaconda3\\envs\\SAN\\lib\\site-packages\\stack_data\\utils.py\", line 145, in cached_property_wrapper\n",
      "    value = obj.__dict__[self.func.__name__] = self.func(obj)\n",
      "  File \"c:\\Users\\vince\\anaconda3\\envs\\SAN\\lib\\site-packages\\stack_data\\core.py\", line 649, in included_pieces\n",
      "    pos = scope_pieces.index(self.executing_piece)\n",
      "  File \"c:\\Users\\vince\\anaconda3\\envs\\SAN\\lib\\site-packages\\stack_data\\utils.py\", line 145, in cached_property_wrapper\n",
      "    value = obj.__dict__[self.func.__name__] = self.func(obj)\n",
      "  File \"c:\\Users\\vince\\anaconda3\\envs\\SAN\\lib\\site-packages\\stack_data\\core.py\", line 628, in executing_piece\n",
      "    return only(\n",
      "  File \"c:\\Users\\vince\\anaconda3\\envs\\SAN\\lib\\site-packages\\executing\\executing.py\", line 164, in only\n",
      "    raise NotOneValueFound('Expected one value, found 0')\n",
      "executing.executing.NotOneValueFound: Expected one value, found 0\n"
     ]
    }
   ],
   "source": [
    "# Netzwerk einlesen\n",
    "fh = open(\"data/large_twitch_edges.csv\", \"rb\")\n",
    "G = nx.read_edgelist(fh, delimiter=',')\n",
    "fh.close()"
   ]
  },
  {
   "cell_type": "code",
   "execution_count": null,
   "metadata": {},
   "outputs": [],
   "source": [
    "# Remove header nodes\n",
    "G.remove_node('numeric_id_1')\n",
    "G.remove_node('numeric_id_2')"
   ]
  },
  {
   "cell_type": "markdown",
   "metadata": {},
   "source": [
    "### Manuelle Überprüfung, ob das Netz korrekt eingelesen wurde"
   ]
  },
  {
   "cell_type": "code",
   "execution_count": null,
   "metadata": {},
   "outputs": [
    {
     "data": {
      "text/html": [
       "<div>\n",
       "<style scoped>\n",
       "    .dataframe tbody tr th:only-of-type {\n",
       "        vertical-align: middle;\n",
       "    }\n",
       "\n",
       "    .dataframe tbody tr th {\n",
       "        vertical-align: top;\n",
       "    }\n",
       "\n",
       "    .dataframe thead th {\n",
       "        text-align: right;\n",
       "    }\n",
       "</style>\n",
       "<table border=\"1\" class=\"dataframe\">\n",
       "  <thead>\n",
       "    <tr style=\"text-align: right;\">\n",
       "      <th></th>\n",
       "      <th>numeric_id_1</th>\n",
       "      <th>numeric_id_2</th>\n",
       "    </tr>\n",
       "  </thead>\n",
       "  <tbody>\n",
       "    <tr>\n",
       "      <th>0</th>\n",
       "      <td>98343</td>\n",
       "      <td>141493</td>\n",
       "    </tr>\n",
       "    <tr>\n",
       "      <th>1</th>\n",
       "      <td>98343</td>\n",
       "      <td>58736</td>\n",
       "    </tr>\n",
       "    <tr>\n",
       "      <th>2</th>\n",
       "      <td>98343</td>\n",
       "      <td>140703</td>\n",
       "    </tr>\n",
       "    <tr>\n",
       "      <th>3</th>\n",
       "      <td>98343</td>\n",
       "      <td>151401</td>\n",
       "    </tr>\n",
       "    <tr>\n",
       "      <th>4</th>\n",
       "      <td>98343</td>\n",
       "      <td>157118</td>\n",
       "    </tr>\n",
       "  </tbody>\n",
       "</table>\n",
       "</div>"
      ],
      "text/plain": [
       "  numeric_id_1 numeric_id_2\n",
       "0        98343       141493\n",
       "1        98343        58736\n",
       "2        98343       140703\n",
       "3        98343       151401\n",
       "4        98343       157118"
      ]
     },
     "execution_count": 4,
     "metadata": {},
     "output_type": "execute_result"
    }
   ],
   "source": [
    "edge_list = pd.read_csv('data/large_twitch_edges.csv').astype(str)\n",
    "edge_list.head()"
   ]
  },
  {
   "cell_type": "code",
   "execution_count": null,
   "metadata": {},
   "outputs": [],
   "source": [
    "# Überprüfung, ob die Nachbarn von 98343 korrekt abgebildet wurden.\n",
    "assert set(G.neighbors('98343')) == set(edge_list[edge_list.numeric_id_1=='98343'].numeric_id_2), \"Neighbors of 98343 are not correctly displayed in the Network.\""
   ]
  },
  {
   "cell_type": "markdown",
   "metadata": {},
   "source": [
    "## EDA auf Knotenattributen und Netzwerkgrösse\n",
    "### Netzwerkgrösse"
   ]
  },
  {
   "cell_type": "code",
   "execution_count": null,
   "metadata": {},
   "outputs": [
    {
     "name": "stdout",
     "output_type": "stream",
     "text": [
      "Anzahl Knoten: 168114\n",
      "Anzahl Kanten: 6797557\n",
      "Density: 0.00048103610439398153\n"
     ]
    }
   ],
   "source": [
    "print(f'Anzahl Knoten: {G.number_of_nodes()}')\n",
    "print(f'Anzahl Kanten: {G.number_of_edges()}')\n",
    "print(f'Density: {nx.density(G)}')"
   ]
  },
  {
   "cell_type": "markdown",
   "metadata": {},
   "source": [
    "Wir haben es also mit einem sehr grossen Netzwerk zu tun, welches aber wenig Kanten hat im Vergleich mit der Anzahl Knoten. Dies ergibt soweit Sinn, da eine Kante nur entsteht, wenn sich User gegenseitig followen. User, welche fast nur anderen zuschauen, werden wohl wenig Kanten haben, da diese eher selten gefollowed werden. Wir werden das Netzwerk nach gewissen Knotenattributen filtern, um die Prozessierung zu ermöglichen. \n",
    "\n",
    "Für dieses Projekt werden wir affiliate, Partner und gepartnete User als Synonym verwenden. Ebenfalls gehört jeder Channel einem User, somit kann das Wort User/Channel als fast identisch angesehen werden. Für einen Stream geht man auf Twitch \"zu einem User\" und nicht \"einem Channel, welcher von einem User erstellt wurde\". Ein Benutzer kann also nicht einen zweiten Channel erstellen mit seinem User."
   ]
  },
  {
   "cell_type": "markdown",
   "metadata": {},
   "source": [
    "### Knotenattribute"
   ]
  },
  {
   "cell_type": "code",
   "execution_count": null,
   "metadata": {},
   "outputs": [],
   "source": [
    "features = pd.read_csv('data/large_twitch_features.csv')\n",
    "features.numeric_id = features.numeric_id.astype(str)\n",
    "# Cast boolean ints to booleans for more beautiful plots\n",
    "for col in features.columns:\n",
    "    if set([0, 1]) == set(features[col]):\n",
    "        features[col] = features[col].astype(bool)\n",
    "\n",
    "# Cast datetime cols to datetime\n",
    "features.created_at = pd.to_datetime(features.created_at)\n",
    "features.updated_at = pd.to_datetime(features.updated_at)"
   ]
  },
  {
   "cell_type": "code",
   "execution_count": null,
   "metadata": {},
   "outputs": [
    {
     "data": {
      "text/html": [
       "<div>\n",
       "<style scoped>\n",
       "    .dataframe tbody tr th:only-of-type {\n",
       "        vertical-align: middle;\n",
       "    }\n",
       "\n",
       "    .dataframe tbody tr th {\n",
       "        vertical-align: top;\n",
       "    }\n",
       "\n",
       "    .dataframe thead th {\n",
       "        text-align: right;\n",
       "    }\n",
       "</style>\n",
       "<table border=\"1\" class=\"dataframe\">\n",
       "  <thead>\n",
       "    <tr style=\"text-align: right;\">\n",
       "      <th></th>\n",
       "      <th>views</th>\n",
       "      <th>mature</th>\n",
       "      <th>life_time</th>\n",
       "      <th>created_at</th>\n",
       "      <th>updated_at</th>\n",
       "      <th>numeric_id</th>\n",
       "      <th>dead_account</th>\n",
       "      <th>language</th>\n",
       "      <th>affiliate</th>\n",
       "    </tr>\n",
       "  </thead>\n",
       "  <tbody>\n",
       "    <tr>\n",
       "      <th>55367</th>\n",
       "      <td>4335</td>\n",
       "      <td>True</td>\n",
       "      <td>1491</td>\n",
       "      <td>2014-09-08</td>\n",
       "      <td>2018-10-08</td>\n",
       "      <td>55367</td>\n",
       "      <td>False</td>\n",
       "      <td>EN</td>\n",
       "      <td>True</td>\n",
       "    </tr>\n",
       "    <tr>\n",
       "      <th>127237</th>\n",
       "      <td>4127</td>\n",
       "      <td>True</td>\n",
       "      <td>788</td>\n",
       "      <td>2016-08-14</td>\n",
       "      <td>2018-10-11</td>\n",
       "      <td>127237</td>\n",
       "      <td>False</td>\n",
       "      <td>EN</td>\n",
       "      <td>True</td>\n",
       "    </tr>\n",
       "    <tr>\n",
       "      <th>62438</th>\n",
       "      <td>1354</td>\n",
       "      <td>True</td>\n",
       "      <td>1238</td>\n",
       "      <td>2015-05-23</td>\n",
       "      <td>2018-10-12</td>\n",
       "      <td>62438</td>\n",
       "      <td>False</td>\n",
       "      <td>EN</td>\n",
       "      <td>False</td>\n",
       "    </tr>\n",
       "    <tr>\n",
       "      <th>166470</th>\n",
       "      <td>174588</td>\n",
       "      <td>False</td>\n",
       "      <td>2774</td>\n",
       "      <td>2011-02-20</td>\n",
       "      <td>2018-09-25</td>\n",
       "      <td>166470</td>\n",
       "      <td>False</td>\n",
       "      <td>EN</td>\n",
       "      <td>True</td>\n",
       "    </tr>\n",
       "    <tr>\n",
       "      <th>109569</th>\n",
       "      <td>19</td>\n",
       "      <td>False</td>\n",
       "      <td>165</td>\n",
       "      <td>2018-04-03</td>\n",
       "      <td>2018-09-15</td>\n",
       "      <td>109569</td>\n",
       "      <td>False</td>\n",
       "      <td>EN</td>\n",
       "      <td>False</td>\n",
       "    </tr>\n",
       "  </tbody>\n",
       "</table>\n",
       "</div>"
      ],
      "text/plain": [
       "         views  mature  life_time created_at updated_at numeric_id  \\\n",
       "55367     4335    True       1491 2014-09-08 2018-10-08      55367   \n",
       "127237    4127    True        788 2016-08-14 2018-10-11     127237   \n",
       "62438     1354    True       1238 2015-05-23 2018-10-12      62438   \n",
       "166470  174588   False       2774 2011-02-20 2018-09-25     166470   \n",
       "109569      19   False        165 2018-04-03 2018-09-15     109569   \n",
       "\n",
       "        dead_account language  affiliate  \n",
       "55367          False       EN       True  \n",
       "127237         False       EN       True  \n",
       "62438          False       EN      False  \n",
       "166470         False       EN       True  \n",
       "109569         False       EN      False  "
      ]
     },
     "execution_count": 8,
     "metadata": {},
     "output_type": "execute_result"
    }
   ],
   "source": [
    "features.sample(5)"
   ]
  },
  {
   "cell_type": "markdown",
   "metadata": {},
   "source": [
    "Der Datensatz hat folgende Attribute:\n",
    "- `views`: Anzahl Views auf dem User / Channel\n",
    "- `mature`: Ob der Channel sich an Erwachsene richtet.\n",
    "- `life_time`: Anzahl Tage zwischen erstem Stream und letztem Stream.\n",
    "- `created_at`: Wann der User erstellt wurde\n",
    "- `updated_at`: Wann der User das letzte mal gestreamed hat.\n",
    "- `numeric_id`: Unique ID des Users\n",
    "- `dead_account`: Ob der Account deaktiviert wurde oder der User lange nicht aktiv war (~3 Monate)\n",
    "- `language`: Sprache des Users / Channel\n",
    "- `affiliate`: Ob der User ein Twitch-Partner (affiliate) ist oder nicht (nicht-Partner)"
   ]
  },
  {
   "cell_type": "markdown",
   "metadata": {},
   "source": [
    "Wir können uns ein paar Attribute genauer anschauen:"
   ]
  },
  {
   "cell_type": "code",
   "execution_count": null,
   "metadata": {},
   "outputs": [
    {
     "data": {
      "image/png": "[encoded data removed]",
      "text/plain": [
       "<Figure size 432x288 with 1 Axes>"
      ]
     },
     "metadata": {
      "needs_background": "light"
     },
     "output_type": "display_data"
    }
   ],
   "source": [
    "sns.countplot(data=features, x=\"affiliate\", hue=\"mature\", palette=\"Set1\")\n",
    "plt.title('Count of (not) Mature Affiliated/Unaffiliated Channels.')\n",
    "plt.show()"
   ]
  },
  {
   "cell_type": "markdown",
   "metadata": {},
   "source": [
    "Wir sehen also, dass mature Channels weniger oft gepartnert sind als nicht-mature Channels."
   ]
  },
  {
   "cell_type": "code",
   "execution_count": null,
   "metadata": {},
   "outputs": [
    {
     "data": {
      "image/png": "[encoded data removed]",
      "text/plain": [
       "<Figure size 432x288 with 1 Axes>"
      ]
     },
     "metadata": {
      "needs_background": "light"
     },
     "output_type": "display_data"
    }
   ],
   "source": [
    "sns.countplot(data=features, x=\"affiliate\", palette=\"Set1\")\n",
    "plt.title('Affiliated vs Unaffiliated')\n",
    "plt.show()"
   ]
  },
  {
   "cell_type": "markdown",
   "metadata": {},
   "source": [
    "Es hat überraschend viele gepartnete User mit Twitch. Ich hätte nicht gedacht, dass das Verhältniss fast 50/50 ist."
   ]
  },
  {
   "cell_type": "code",
   "execution_count": null,
   "metadata": {},
   "outputs": [
    {
     "data": {
      "image/png": "[encoded data removed]",
      "text/plain": [
       "<Figure size 432x288 with 1 Axes>"
      ]
     },
     "metadata": {
      "needs_background": "light"
     },
     "output_type": "display_data"
    }
   ],
   "source": [
    "features.language.value_counts().plot(kind='bar', title='Distrubtion of Languages')\n",
    "plt.show()"
   ]
  },
  {
   "cell_type": "markdown",
   "metadata": {},
   "source": [
    "Überwiegend ist die Channelsprache Englisch, gefolgt (weit abgeschlagen) von Deutsch, Französisch, Spanisch und Russisch. "
   ]
  },
  {
   "cell_type": "code",
   "execution_count": null,
   "metadata": {},
   "outputs": [
    {
     "data": {
      "image/png": "[encoded data removed]",
      "text/plain": [
       "<Figure size 432x288 with 1 Axes>"
      ]
     },
     "metadata": {
      "needs_background": "light"
     },
     "output_type": "display_data"
    }
   ],
   "source": [
    "sns.countplot(data=features, x=\"dead_account\")\n",
    "plt.title('Dead Accounts')\n",
    "plt.show()"
   ]
  },
  {
   "cell_type": "markdown",
   "metadata": {},
   "source": [
    "Interessant zu sehen, dass es nur sehr wenige, inaktive User gibt. Es wäre eine Untersuchung wert, ob das vielleicht aus der Art, wie die Daten gesammelt wurden, entstanden ist (e.g., das nur aktive Accounts und ihre Follower in gescrapped wurden)."
   ]
  },
  {
   "cell_type": "code",
   "execution_count": null,
   "metadata": {},
   "outputs": [
    {
     "data": {
      "image/png": "[encoded data removed]",
      "text/plain": [
       "<Figure size 432x288 with 1 Axes>"
      ]
     },
     "metadata": {
      "needs_background": "light"
     },
     "output_type": "display_data"
    }
   ],
   "source": [
    "sns.countplot(x=features.created_at.dt.year)\n",
    "plt.title('Distribution of Created Accounts per Year')\n",
    "plt.show()"
   ]
  },
  {
   "cell_type": "markdown",
   "metadata": {},
   "source": [
    "In diesem Plot sieht man deutlich die Jahre, wo Twitch stark zugelegt hat (2011-2016)."
   ]
  },
  {
   "cell_type": "markdown",
   "metadata": {},
   "source": [
    "Im vorherigen Abschnitt haben wir die Annahme getroffen, dass Twitch-Partner mehr Kanten haben als nicht-Partner. Wir können uns dafür die Density von den zwei Subgruppen anschauen."
   ]
  },
  {
   "cell_type": "code",
   "execution_count": null,
   "metadata": {},
   "outputs": [],
   "source": [
    "netzwerk_partner = nx.subgraph(G, features[features.affiliate==True].numeric_id.tolist())\n",
    "netzwerk_kein_partner = nx.subgraph(G, features[features.affiliate==False].numeric_id.tolist())"
   ]
  },
  {
   "cell_type": "code",
   "execution_count": null,
   "metadata": {},
   "outputs": [
    {
     "name": "stdout",
     "output_type": "stream",
     "text": [
      "Density von Nicht-Partnern: 0.0006154880996428399\n"
     ]
    }
   ],
   "source": [
    "print(f'Density von Nicht-Partnern: {nx.density(netzwerk_kein_partner)}')\n",
    "# Density nimmt general ab mit der Grösse des Netzwerks\n",
    "# Metrik, welche diese berücksichtigt."
   ]
  },
  {
   "cell_type": "code",
   "execution_count": null,
   "metadata": {},
   "outputs": [
    {
     "name": "stdout",
     "output_type": "stream",
     "text": [
      "Density von Partnern: 0.0004175468251946277\n"
     ]
    }
   ],
   "source": [
    "print(f'Density von Partnern: {nx.density(netzwerk_partner)}')"
   ]
  },
  {
   "cell_type": "markdown",
   "metadata": {},
   "source": [
    "Das war nicht erwartet; Die Density von nicht-Partnern ist ca. 50% höher als von Partnern. Dies bedeutet, dass sich nicht-Partnern gegenseitiger häufiger folgen als Partner. Ändern sich diese Zahlen, wenn wir inaktive Accounts rausnehmen?"
   ]
  },
  {
   "cell_type": "code",
   "execution_count": null,
   "metadata": {},
   "outputs": [],
   "source": [
    "netzwerk_aktiv = nx.subgraph(G, features[features.dead_account==False].numeric_id.tolist())\n",
    "netzwerk_aktiv_partner = nx.subgraph(netzwerk_aktiv, features[features.affiliate==True].numeric_id.tolist())\n",
    "netzwerk_aktiv_kein_partner = nx.subgraph(netzwerk_aktiv, features[features.affiliate==False].numeric_id.tolist())"
   ]
  },
  {
   "cell_type": "code",
   "execution_count": null,
   "metadata": {},
   "outputs": [
    {
     "name": "stdout",
     "output_type": "stream",
     "text": [
      "Density von aktiven Nicht-Partnern: 0.0006735701234769484\n"
     ]
    }
   ],
   "source": [
    "print(f'Density von aktiven Nicht-Partnern: {nx.density(netzwerk_aktiv_kein_partner)}')"
   ]
  },
  {
   "cell_type": "code",
   "execution_count": null,
   "metadata": {},
   "outputs": [
    {
     "name": "stdout",
     "output_type": "stream",
     "text": [
      "Density von aktiven Partnern: 0.00041792783234412354\n"
     ]
    }
   ],
   "source": [
    "print(f'Density von aktiven Partnern: {nx.density(netzwerk_aktiv_partner)}')"
   ]
  },
  {
   "cell_type": "markdown",
   "metadata": {},
   "source": [
    "Die Density nimmt zu, bei beiden, aber mehr bei den nicht-Partnern. Ergibt auch Sinn, da Partner wohl im Prinzip nicht inaktiv sein können. Dies lässt sich leicht überprüfen in einer Grafik:"
   ]
  },
  {
   "cell_type": "code",
   "execution_count": null,
   "metadata": {},
   "outputs": [
    {
     "data": {
      "image/png": "[encoded data removed]",
      "text/plain": [
       "<Figure size 432x288 with 1 Axes>"
      ]
     },
     "metadata": {
      "needs_background": "light"
     },
     "output_type": "display_data"
    }
   ],
   "source": [
    "sns.countplot(data=features, x=\"dead_account\", hue=\"affiliate\", palette=\"Set1\")\n",
    "plt.title('Count of Dead/Active Affiliated/Unaffiliated Channels.')\n",
    "plt.show()"
   ]
  },
  {
   "cell_type": "markdown",
   "metadata": {},
   "source": [
    "Man sieht aber deutlich, dass die Anzahl von gepartnerten Accounts, welche inaktiv sind, verschwindent gering ist. Das sieht aber fast nach einem Fehler aus. Wie kann die Ratio von gepartnetern Usern von aktiven Accounts fast identisch sein? Ist da was falsch? "
   ]
  },
  {
   "cell_type": "code",
   "execution_count": null,
   "metadata": {},
   "outputs": [
    {
     "name": "stdout",
     "output_type": "stream",
     "text": [
      "Anteil Partner von inaktiven vs aktiven User:\n",
      "dead_account  affiliate\n",
      "False         False        81483\n",
      "              True         81472\n",
      "True          False         5085\n",
      "              True            74\n",
      "Name: affiliate, dtype: int64\n"
     ]
    }
   ],
   "source": [
    "print(f\"Anteil Partner von inaktiven vs aktiven User:\\n{features.groupby('dead_account')['affiliate'].value_counts()}\")"
   ]
  },
  {
   "cell_type": "markdown",
   "metadata": {},
   "source": [
    "Nein, die zwei Zahlen sind fast identisch. Es ist aber trotzdem unerwartet, dass sich nicht-Partner gegenseitig häufiger folgen als Partner."
   ]
  },
  {
   "cell_type": "markdown",
   "metadata": {},
   "source": [
    "#### Views\n",
    "Wir schauen uns nun das Attribut `views` an von aktiven Accounts, separat für Partner und nicht-Partner."
   ]
  },
  {
   "cell_type": "code",
   "execution_count": null,
   "metadata": {},
   "outputs": [],
   "source": [
    "active_accounts = features[features.dead_account==False]\n",
    "views_active_no_partner = active_accounts[active_accounts.affiliate==False].views\n",
    "views_active_partner = active_accounts[active_accounts.affiliate==True].views"
   ]
  },
  {
   "cell_type": "code",
   "execution_count": null,
   "metadata": {},
   "outputs": [
    {
     "name": "stdout",
     "output_type": "stream",
     "text": [
      "Mean views of active accounts without partner: 364752.97\n",
      "Mean views of active accounts with partner: 23299.74\n",
      "Median views of active accounts without partner: 1945.00\n",
      "Median views of active accounts with partner: 7469.00\n"
     ]
    }
   ],
   "source": [
    "# Print mean and median for views of active accounts without partner and with partner\n",
    "print(f\"Mean views of active accounts without partner: {views_active_no_partner.mean():.2f}\")\n",
    "print(f\"Mean views of active accounts with partner: {views_active_partner.mean():.2f}\")\n",
    "print(f\"Median views of active accounts without partner: {views_active_no_partner.median():.2f}\")\n",
    "print(f\"Median views of active accounts with partner: {views_active_partner.median():.2f}\")"
   ]
  },
  {
   "cell_type": "markdown",
   "metadata": {},
   "source": [
    "Sehr interessant! Wieder unerwartet. Im Durchschnitt hat ein Partner ca. 15x mehr Views als nicht-Partner. Wenn wir uns aber den Median anschauen, ist das Bild anders; hier hat ein Partner ca. 4x soviele Views. Es scheint so, als hätten nicht-Partner massive Aussreisser in den Views. Dies können wir mit einem Boxplot bestätigen:"
   ]
  },
  {
   "cell_type": "code",
   "execution_count": null,
   "metadata": {},
   "outputs": [
    {
     "data": {
      "image/png": "[encoded data removed]",
      "text/plain": [
       "<Figure size 432x288 with 1 Axes>"
      ]
     },
     "metadata": {
      "needs_background": "light"
     },
     "output_type": "display_data"
    }
   ],
   "source": [
    "sns.boxplot(x='affiliate', y='views', data=active_accounts)\n",
    "plt.title('Boxplot der Views von aktiven Accounts')\n",
    "plt.show()"
   ]
  },
  {
   "cell_type": "markdown",
   "metadata": {},
   "source": [
    "Wir können uns noch die Top 30 anschauen und sehen, dass von den Top 30 Views niemand gepartnert ist mit Twitch."
   ]
  },
  {
   "cell_type": "code",
   "execution_count": null,
   "metadata": {},
   "outputs": [
    {
     "data": {
      "text/html": [
       "<div>\n",
       "<style scoped>\n",
       "    .dataframe tbody tr th:only-of-type {\n",
       "        vertical-align: middle;\n",
       "    }\n",
       "\n",
       "    .dataframe tbody tr th {\n",
       "        vertical-align: top;\n",
       "    }\n",
       "\n",
       "    .dataframe thead th {\n",
       "        text-align: right;\n",
       "    }\n",
       "</style>\n",
       "<table border=\"1\" class=\"dataframe\">\n",
       "  <thead>\n",
       "    <tr style=\"text-align: right;\">\n",
       "      <th></th>\n",
       "      <th>views</th>\n",
       "      <th>mature</th>\n",
       "      <th>life_time</th>\n",
       "      <th>created_at</th>\n",
       "      <th>updated_at</th>\n",
       "      <th>numeric_id</th>\n",
       "      <th>dead_account</th>\n",
       "      <th>language</th>\n",
       "      <th>affiliate</th>\n",
       "    </tr>\n",
       "  </thead>\n",
       "  <tbody>\n",
       "    <tr>\n",
       "      <th>96473</th>\n",
       "      <td>384396587</td>\n",
       "      <td>False</td>\n",
       "      <td>2416</td>\n",
       "      <td>2012-03-01</td>\n",
       "      <td>2018-10-12</td>\n",
       "      <td>96473</td>\n",
       "      <td>False</td>\n",
       "      <td>RU</td>\n",
       "      <td>False</td>\n",
       "    </tr>\n",
       "    <tr>\n",
       "      <th>129896</th>\n",
       "      <td>368912220</td>\n",
       "      <td>False</td>\n",
       "      <td>2379</td>\n",
       "      <td>2012-04-07</td>\n",
       "      <td>2018-10-12</td>\n",
       "      <td>129896</td>\n",
       "      <td>False</td>\n",
       "      <td>EN</td>\n",
       "      <td>False</td>\n",
       "    </tr>\n",
       "    <tr>\n",
       "      <th>61862</th>\n",
       "      <td>340602050</td>\n",
       "      <td>False</td>\n",
       "      <td>2826</td>\n",
       "      <td>2011-01-16</td>\n",
       "      <td>2018-10-12</td>\n",
       "      <td>61862</td>\n",
       "      <td>False</td>\n",
       "      <td>EN</td>\n",
       "      <td>False</td>\n",
       "    </tr>\n",
       "    <tr>\n",
       "      <th>128864</th>\n",
       "      <td>297117159</td>\n",
       "      <td>False</td>\n",
       "      <td>2314</td>\n",
       "      <td>2012-06-11</td>\n",
       "      <td>2018-10-12</td>\n",
       "      <td>128864</td>\n",
       "      <td>False</td>\n",
       "      <td>EN</td>\n",
       "      <td>False</td>\n",
       "    </tr>\n",
       "    <tr>\n",
       "      <th>144643</th>\n",
       "      <td>294116493</td>\n",
       "      <td>False</td>\n",
       "      <td>2577</td>\n",
       "      <td>2011-09-22</td>\n",
       "      <td>2018-10-12</td>\n",
       "      <td>144643</td>\n",
       "      <td>False</td>\n",
       "      <td>EN</td>\n",
       "      <td>False</td>\n",
       "    </tr>\n",
       "    <tr>\n",
       "      <th>110345</th>\n",
       "      <td>264643346</td>\n",
       "      <td>False</td>\n",
       "      <td>2664</td>\n",
       "      <td>2011-06-27</td>\n",
       "      <td>2018-10-12</td>\n",
       "      <td>110345</td>\n",
       "      <td>False</td>\n",
       "      <td>EN</td>\n",
       "      <td>False</td>\n",
       "    </tr>\n",
       "    <tr>\n",
       "      <th>125642</th>\n",
       "      <td>243451177</td>\n",
       "      <td>False</td>\n",
       "      <td>2507</td>\n",
       "      <td>2011-12-01</td>\n",
       "      <td>2018-10-12</td>\n",
       "      <td>125642</td>\n",
       "      <td>False</td>\n",
       "      <td>EN</td>\n",
       "      <td>False</td>\n",
       "    </tr>\n",
       "    <tr>\n",
       "      <th>64605</th>\n",
       "      <td>240718261</td>\n",
       "      <td>True</td>\n",
       "      <td>2516</td>\n",
       "      <td>2011-11-22</td>\n",
       "      <td>2018-10-12</td>\n",
       "      <td>64605</td>\n",
       "      <td>False</td>\n",
       "      <td>EN</td>\n",
       "      <td>False</td>\n",
       "    </tr>\n",
       "    <tr>\n",
       "      <th>71050</th>\n",
       "      <td>218559516</td>\n",
       "      <td>False</td>\n",
       "      <td>2169</td>\n",
       "      <td>2012-11-03</td>\n",
       "      <td>2018-10-12</td>\n",
       "      <td>71050</td>\n",
       "      <td>False</td>\n",
       "      <td>EN</td>\n",
       "      <td>False</td>\n",
       "    </tr>\n",
       "    <tr>\n",
       "      <th>161362</th>\n",
       "      <td>213931993</td>\n",
       "      <td>False</td>\n",
       "      <td>2359</td>\n",
       "      <td>2012-04-27</td>\n",
       "      <td>2018-10-12</td>\n",
       "      <td>161362</td>\n",
       "      <td>False</td>\n",
       "      <td>EN</td>\n",
       "      <td>False</td>\n",
       "    </tr>\n",
       "    <tr>\n",
       "      <th>52703</th>\n",
       "      <td>206941623</td>\n",
       "      <td>False</td>\n",
       "      <td>4161</td>\n",
       "      <td>2007-05-22</td>\n",
       "      <td>2018-10-12</td>\n",
       "      <td>52703</td>\n",
       "      <td>False</td>\n",
       "      <td>EN</td>\n",
       "      <td>False</td>\n",
       "    </tr>\n",
       "    <tr>\n",
       "      <th>26309</th>\n",
       "      <td>203471447</td>\n",
       "      <td>False</td>\n",
       "      <td>2371</td>\n",
       "      <td>2012-04-15</td>\n",
       "      <td>2018-10-12</td>\n",
       "      <td>26309</td>\n",
       "      <td>False</td>\n",
       "      <td>EN</td>\n",
       "      <td>False</td>\n",
       "    </tr>\n",
       "    <tr>\n",
       "      <th>158403</th>\n",
       "      <td>202252218</td>\n",
       "      <td>False</td>\n",
       "      <td>2359</td>\n",
       "      <td>2012-04-27</td>\n",
       "      <td>2018-10-12</td>\n",
       "      <td>158403</td>\n",
       "      <td>False</td>\n",
       "      <td>EN</td>\n",
       "      <td>False</td>\n",
       "    </tr>\n",
       "    <tr>\n",
       "      <th>32338</th>\n",
       "      <td>202142952</td>\n",
       "      <td>False</td>\n",
       "      <td>2702</td>\n",
       "      <td>2011-05-20</td>\n",
       "      <td>2018-10-12</td>\n",
       "      <td>32338</td>\n",
       "      <td>False</td>\n",
       "      <td>EN</td>\n",
       "      <td>False</td>\n",
       "    </tr>\n",
       "    <tr>\n",
       "      <th>125828</th>\n",
       "      <td>179513429</td>\n",
       "      <td>False</td>\n",
       "      <td>2422</td>\n",
       "      <td>2012-02-24</td>\n",
       "      <td>2018-10-12</td>\n",
       "      <td>125828</td>\n",
       "      <td>False</td>\n",
       "      <td>ZH</td>\n",
       "      <td>False</td>\n",
       "    </tr>\n",
       "    <tr>\n",
       "      <th>152394</th>\n",
       "      <td>178500544</td>\n",
       "      <td>False</td>\n",
       "      <td>2443</td>\n",
       "      <td>2012-02-03</td>\n",
       "      <td>2018-10-12</td>\n",
       "      <td>152394</td>\n",
       "      <td>False</td>\n",
       "      <td>EN</td>\n",
       "      <td>False</td>\n",
       "    </tr>\n",
       "    <tr>\n",
       "      <th>2050</th>\n",
       "      <td>177293299</td>\n",
       "      <td>False</td>\n",
       "      <td>1987</td>\n",
       "      <td>2013-05-04</td>\n",
       "      <td>2018-10-12</td>\n",
       "      <td>2050</td>\n",
       "      <td>False</td>\n",
       "      <td>ZH</td>\n",
       "      <td>False</td>\n",
       "    </tr>\n",
       "    <tr>\n",
       "      <th>63518</th>\n",
       "      <td>160422474</td>\n",
       "      <td>False</td>\n",
       "      <td>2305</td>\n",
       "      <td>2012-06-20</td>\n",
       "      <td>2018-10-12</td>\n",
       "      <td>63518</td>\n",
       "      <td>False</td>\n",
       "      <td>EN</td>\n",
       "      <td>False</td>\n",
       "    </tr>\n",
       "    <tr>\n",
       "      <th>39372</th>\n",
       "      <td>133196253</td>\n",
       "      <td>True</td>\n",
       "      <td>2440</td>\n",
       "      <td>2012-02-06</td>\n",
       "      <td>2018-10-12</td>\n",
       "      <td>39372</td>\n",
       "      <td>False</td>\n",
       "      <td>EN</td>\n",
       "      <td>False</td>\n",
       "    </tr>\n",
       "    <tr>\n",
       "      <th>52552</th>\n",
       "      <td>123729653</td>\n",
       "      <td>False</td>\n",
       "      <td>2196</td>\n",
       "      <td>2012-10-07</td>\n",
       "      <td>2018-10-12</td>\n",
       "      <td>52552</td>\n",
       "      <td>False</td>\n",
       "      <td>PL</td>\n",
       "      <td>False</td>\n",
       "    </tr>\n",
       "    <tr>\n",
       "      <th>31982</th>\n",
       "      <td>121384763</td>\n",
       "      <td>False</td>\n",
       "      <td>1030</td>\n",
       "      <td>2015-12-17</td>\n",
       "      <td>2018-10-12</td>\n",
       "      <td>31982</td>\n",
       "      <td>False</td>\n",
       "      <td>EN</td>\n",
       "      <td>False</td>\n",
       "    </tr>\n",
       "    <tr>\n",
       "      <th>40868</th>\n",
       "      <td>120307739</td>\n",
       "      <td>True</td>\n",
       "      <td>2787</td>\n",
       "      <td>2011-02-24</td>\n",
       "      <td>2018-10-12</td>\n",
       "      <td>40868</td>\n",
       "      <td>False</td>\n",
       "      <td>EN</td>\n",
       "      <td>False</td>\n",
       "    </tr>\n",
       "    <tr>\n",
       "      <th>70350</th>\n",
       "      <td>117655872</td>\n",
       "      <td>True</td>\n",
       "      <td>2319</td>\n",
       "      <td>2012-06-06</td>\n",
       "      <td>2018-10-12</td>\n",
       "      <td>70350</td>\n",
       "      <td>False</td>\n",
       "      <td>RU</td>\n",
       "      <td>False</td>\n",
       "    </tr>\n",
       "    <tr>\n",
       "      <th>128589</th>\n",
       "      <td>116392808</td>\n",
       "      <td>False</td>\n",
       "      <td>1896</td>\n",
       "      <td>2013-08-03</td>\n",
       "      <td>2018-10-12</td>\n",
       "      <td>128589</td>\n",
       "      <td>False</td>\n",
       "      <td>PT</td>\n",
       "      <td>False</td>\n",
       "    </tr>\n",
       "    <tr>\n",
       "      <th>58493</th>\n",
       "      <td>115083137</td>\n",
       "      <td>False</td>\n",
       "      <td>2993</td>\n",
       "      <td>2010-08-02</td>\n",
       "      <td>2018-10-12</td>\n",
       "      <td>58493</td>\n",
       "      <td>False</td>\n",
       "      <td>EN</td>\n",
       "      <td>False</td>\n",
       "    </tr>\n",
       "    <tr>\n",
       "      <th>73213</th>\n",
       "      <td>110913108</td>\n",
       "      <td>True</td>\n",
       "      <td>3452</td>\n",
       "      <td>2009-04-30</td>\n",
       "      <td>2018-10-12</td>\n",
       "      <td>73213</td>\n",
       "      <td>False</td>\n",
       "      <td>EN</td>\n",
       "      <td>False</td>\n",
       "    </tr>\n",
       "    <tr>\n",
       "      <th>59951</th>\n",
       "      <td>110131156</td>\n",
       "      <td>False</td>\n",
       "      <td>2356</td>\n",
       "      <td>2012-04-30</td>\n",
       "      <td>2018-10-12</td>\n",
       "      <td>59951</td>\n",
       "      <td>False</td>\n",
       "      <td>EN</td>\n",
       "      <td>False</td>\n",
       "    </tr>\n",
       "    <tr>\n",
       "      <th>56294</th>\n",
       "      <td>108432615</td>\n",
       "      <td>False</td>\n",
       "      <td>1479</td>\n",
       "      <td>2014-09-24</td>\n",
       "      <td>2018-10-12</td>\n",
       "      <td>56294</td>\n",
       "      <td>False</td>\n",
       "      <td>FR</td>\n",
       "      <td>False</td>\n",
       "    </tr>\n",
       "    <tr>\n",
       "      <th>123018</th>\n",
       "      <td>108115325</td>\n",
       "      <td>False</td>\n",
       "      <td>584</td>\n",
       "      <td>2017-03-07</td>\n",
       "      <td>2018-10-12</td>\n",
       "      <td>123018</td>\n",
       "      <td>False</td>\n",
       "      <td>EN</td>\n",
       "      <td>False</td>\n",
       "    </tr>\n",
       "    <tr>\n",
       "      <th>88518</th>\n",
       "      <td>105836759</td>\n",
       "      <td>False</td>\n",
       "      <td>2279</td>\n",
       "      <td>2012-07-16</td>\n",
       "      <td>2018-10-12</td>\n",
       "      <td>88518</td>\n",
       "      <td>False</td>\n",
       "      <td>EN</td>\n",
       "      <td>False</td>\n",
       "    </tr>\n",
       "  </tbody>\n",
       "</table>\n",
       "</div>"
      ],
      "text/plain": [
       "            views  mature  life_time created_at updated_at numeric_id  \\\n",
       "96473   384396587   False       2416 2012-03-01 2018-10-12      96473   \n",
       "129896  368912220   False       2379 2012-04-07 2018-10-12     129896   \n",
       "61862   340602050   False       2826 2011-01-16 2018-10-12      61862   \n",
       "128864  297117159   False       2314 2012-06-11 2018-10-12     128864   \n",
       "144643  294116493   False       2577 2011-09-22 2018-10-12     144643   \n",
       "110345  264643346   False       2664 2011-06-27 2018-10-12     110345   \n",
       "125642  243451177   False       2507 2011-12-01 2018-10-12     125642   \n",
       "64605   240718261    True       2516 2011-11-22 2018-10-12      64605   \n",
       "71050   218559516   False       2169 2012-11-03 2018-10-12      71050   \n",
       "161362  213931993   False       2359 2012-04-27 2018-10-12     161362   \n",
       "52703   206941623   False       4161 2007-05-22 2018-10-12      52703   \n",
       "26309   203471447   False       2371 2012-04-15 2018-10-12      26309   \n",
       "158403  202252218   False       2359 2012-04-27 2018-10-12     158403   \n",
       "32338   202142952   False       2702 2011-05-20 2018-10-12      32338   \n",
       "125828  179513429   False       2422 2012-02-24 2018-10-12     125828   \n",
       "152394  178500544   False       2443 2012-02-03 2018-10-12     152394   \n",
       "2050    177293299   False       1987 2013-05-04 2018-10-12       2050   \n",
       "63518   160422474   False       2305 2012-06-20 2018-10-12      63518   \n",
       "39372   133196253    True       2440 2012-02-06 2018-10-12      39372   \n",
       "52552   123729653   False       2196 2012-10-07 2018-10-12      52552   \n",
       "31982   121384763   False       1030 2015-12-17 2018-10-12      31982   \n",
       "40868   120307739    True       2787 2011-02-24 2018-10-12      40868   \n",
       "70350   117655872    True       2319 2012-06-06 2018-10-12      70350   \n",
       "128589  116392808   False       1896 2013-08-03 2018-10-12     128589   \n",
       "58493   115083137   False       2993 2010-08-02 2018-10-12      58493   \n",
       "73213   110913108    True       3452 2009-04-30 2018-10-12      73213   \n",
       "59951   110131156   False       2356 2012-04-30 2018-10-12      59951   \n",
       "56294   108432615   False       1479 2014-09-24 2018-10-12      56294   \n",
       "123018  108115325   False        584 2017-03-07 2018-10-12     123018   \n",
       "88518   105836759   False       2279 2012-07-16 2018-10-12      88518   \n",
       "\n",
       "        dead_account language  affiliate  \n",
       "96473          False       RU      False  \n",
       "129896         False       EN      False  \n",
       "61862          False       EN      False  \n",
       "128864         False       EN      False  \n",
       "144643         False       EN      False  \n",
       "110345         False       EN      False  \n",
       "125642         False       EN      False  \n",
       "64605          False       EN      False  \n",
       "71050          False       EN      False  \n",
       "161362         False       EN      False  \n",
       "52703          False       EN      False  \n",
       "26309          False       EN      False  \n",
       "158403         False       EN      False  \n",
       "32338          False       EN      False  \n",
       "125828         False       ZH      False  \n",
       "152394         False       EN      False  \n",
       "2050           False       ZH      False  \n",
       "63518          False       EN      False  \n",
       "39372          False       EN      False  \n",
       "52552          False       PL      False  \n",
       "31982          False       EN      False  \n",
       "40868          False       EN      False  \n",
       "70350          False       RU      False  \n",
       "128589         False       PT      False  \n",
       "58493          False       EN      False  \n",
       "73213          False       EN      False  \n",
       "59951          False       EN      False  \n",
       "56294          False       FR      False  \n",
       "123018         False       EN      False  \n",
       "88518          False       EN      False  "
      ]
     },
     "execution_count": 25,
     "metadata": {},
     "output_type": "execute_result"
    }
   ],
   "source": [
    "active_accounts.sort_values(by='views', ascending=False).head(30)"
   ]
  },
  {
   "cell_type": "markdown",
   "metadata": {},
   "source": [
    "Eine gute Erklärung habe ich dafür nicht, es wäre aber Möglich, über das Datum der Usererstellung ein Mapping zu machen zwischen der uniquen ID und dem richtigen Namen und dann mehr herausfinden zu können, warum die Channels mit den meisten User von nicht-Partnern sind.\n",
    "\n",
    "Beispiel [Tyler1](https://twitchtracker.com/loltyler1):\n",
    "\n",
    "- Tyler1 hat seinen User am 14.11.2013 erstellt.\n",
    "- Er spricht Englisch.\n",
    "- Er hatte Ende 2018 mehr als 80 Millionen Views.\n",
    "\n",
    "\n",
    "Wir können nun nach diesem User filtern:"
   ]
  },
  {
   "cell_type": "code",
   "execution_count": null,
   "metadata": {},
   "outputs": [
    {
     "data": {
      "text/html": [
       "<div>\n",
       "<style scoped>\n",
       "    .dataframe tbody tr th:only-of-type {\n",
       "        vertical-align: middle;\n",
       "    }\n",
       "\n",
       "    .dataframe tbody tr th {\n",
       "        vertical-align: top;\n",
       "    }\n",
       "\n",
       "    .dataframe thead th {\n",
       "        text-align: right;\n",
       "    }\n",
       "</style>\n",
       "<table border=\"1\" class=\"dataframe\">\n",
       "  <thead>\n",
       "    <tr style=\"text-align: right;\">\n",
       "      <th></th>\n",
       "      <th>views</th>\n",
       "      <th>mature</th>\n",
       "      <th>life_time</th>\n",
       "      <th>created_at</th>\n",
       "      <th>updated_at</th>\n",
       "      <th>numeric_id</th>\n",
       "      <th>dead_account</th>\n",
       "      <th>language</th>\n",
       "      <th>affiliate</th>\n",
       "    </tr>\n",
       "  </thead>\n",
       "  <tbody>\n",
       "    <tr>\n",
       "      <th>6250</th>\n",
       "      <td>84804681</td>\n",
       "      <td>True</td>\n",
       "      <td>1793</td>\n",
       "      <td>2013-11-14</td>\n",
       "      <td>2018-10-12</td>\n",
       "      <td>6250</td>\n",
       "      <td>False</td>\n",
       "      <td>EN</td>\n",
       "      <td>False</td>\n",
       "    </tr>\n",
       "  </tbody>\n",
       "</table>\n",
       "</div>"
      ],
      "text/plain": [
       "         views  mature  life_time created_at updated_at numeric_id  \\\n",
       "6250  84804681    True       1793 2013-11-14 2018-10-12       6250   \n",
       "\n",
       "      dead_account language  affiliate  \n",
       "6250         False       EN      False  "
      ]
     },
     "execution_count": 26,
     "metadata": {},
     "output_type": "execute_result"
    }
   ],
   "source": [
    "active_accounts[\n",
    "    (active_accounts.created_at=='2013-11-14') &\n",
    "    (active_accounts.language=='EN') &\n",
    "    (active_accounts.views > 80000000)\n",
    "    ]"
   ]
  },
  {
   "cell_type": "markdown",
   "metadata": {},
   "source": [
    "Somit entspricht die `numeric_id` 6250 wohl Tyler1. Gewisse Sachen haben sich aber geändert: Jetzt ist der Channel von Tyler1 nicht mehr an Erwachsene gerichtet. Ebenfalls war er Ende 2018 nicht Partner. Ich kann mich aber erinnern, dass Tyler1 [gebannt](https://web.archive.org/web/20190417084311/https://support.riotgames.com/hc/en-us/articles/115013815928-Understanding-ID-Bans) wurde in diesem Zeitrahmen (~2017/18) und danach wurde sein Account wieder freigeschaltet, hat aber wahrscheinlich seinen Partner-Status verloren. \n",
    "\n",
    "Warum die meistgesehenen Channels aber nicht gepartnert sind, bleibt eine offene Frage. \n",
    "\n",
    "Hier lässt sich aber auch die Annahme treffen, dass in den Daten ein Fehler passiert ist und beim Knotenatttribut `affiliated` 1 und 0 verwechselt wurde. Es ist sehr unwahrscheinlich, dass keiner der Top 30 meistgesehenen User mit Twitch gepartnert ist. Ggf. muss man also gewisse Analysen im EDA-Teil anders interpretieren."
   ]
  },
  {
   "cell_type": "code",
   "execution_count": null,
   "metadata": {},
   "outputs": [
    {
     "data": {
      "image/png": "[encoded data removed]",
      "text/plain": [
       "<Figure size 432x288 with 1 Axes>"
      ]
     },
     "metadata": {
      "needs_background": "light"
     },
     "output_type": "display_data"
    }
   ],
   "source": [
    "sns.kdeplot(active_accounts.views, shade=True)\n",
    "plt.title('KDE Plot of Views for active Accounts')\n",
    "plt.show()"
   ]
  },
  {
   "cell_type": "code",
   "execution_count": null,
   "metadata": {},
   "outputs": [
    {
     "data": {
      "text/plain": [
       "0.25       1515.00\n",
       "0.50       4336.00\n",
       "0.75      14848.50\n",
       "0.99    2676764.08\n",
       "Name: views, dtype: float64"
      ]
     },
     "execution_count": 28,
     "metadata": {},
     "output_type": "execute_result"
    }
   ],
   "source": [
    "# Quantiles\n",
    "active_accounts.views.quantile([0.25, 0.5, 0.75, 0.99])"
   ]
  },
  {
   "cell_type": "markdown",
   "metadata": {},
   "source": [
    "Wir sehen, dass die meiste Density von Views in einem KDEPlot für alle aktiven Accounts in einem sehr kleinen Bereich liegt. 25% der User haben weniger als 1515 Views auf ihrem Channel und 50% weniger als 4336. Wir sehen auch, dass wir gegen oben (>99 Perzentil) es unglaubliche Ausreisser gibt, welche unseren Density Plot verziehen."
   ]
  },
  {
   "cell_type": "code",
   "execution_count": null,
   "metadata": {},
   "outputs": [
    {
     "name": "stderr",
     "output_type": "stream",
     "text": [
      "c:\\Users\\vince\\anaconda3\\envs\\SAN\\lib\\site-packages\\pandas\\core\\arraylike.py:397: RuntimeWarning: divide by zero encountered in log\n",
      "  result = getattr(ufunc, method)(*inputs, **kwargs)\n"
     ]
    },
    {
     "data": {
      "image/png": "[encoded data removed]",
      "text/plain": [
       "<Figure size 432x288 with 1 Axes>"
      ]
     },
     "metadata": {
      "needs_background": "light"
     },
     "output_type": "display_data"
    }
   ],
   "source": [
    "sns.kdeplot(np.log(active_accounts.views), shade=True)\n",
    "plt.title('KDEPlot von log(Views) von aktiven Accounts')\n",
    "plt.show()"
   ]
  },
  {
   "cell_type": "code",
   "execution_count": null,
   "metadata": {},
   "outputs": [
    {
     "name": "stderr",
     "output_type": "stream",
     "text": [
      "c:\\Users\\vince\\anaconda3\\envs\\SAN\\lib\\site-packages\\pandas\\core\\arraylike.py:397: RuntimeWarning: divide by zero encountered in log\n",
      "  result = getattr(ufunc, method)(*inputs, **kwargs)\n"
     ]
    },
    {
     "data": {
      "image/png": "[encoded data removed]",
      "text/plain": [
       "<Figure size 432x288 with 1 Axes>"
      ]
     },
     "metadata": {
      "needs_background": "light"
     },
     "output_type": "display_data"
    }
   ],
   "source": [
    "sns.boxplot(x=np.log(active_accounts.views))\n",
    "plt.title('Boxplot der log(Views) von aktiven Accounts')\n",
    "plt.show()"
   ]
  },
  {
   "cell_type": "code",
   "execution_count": null,
   "metadata": {},
   "outputs": [
    {
     "name": "stderr",
     "output_type": "stream",
     "text": [
      "c:\\Users\\vince\\anaconda3\\envs\\SAN\\lib\\site-packages\\pandas\\core\\arraylike.py:397: RuntimeWarning: divide by zero encountered in log\n",
      "  result = getattr(ufunc, method)(*inputs, **kwargs)\n"
     ]
    },
    {
     "data": {
      "image/png": "[encoded data removed]",
      "text/plain": [
       "<Figure size 432x288 with 1 Axes>"
      ]
     },
     "metadata": {
      "needs_background": "light"
     },
     "output_type": "display_data"
    }
   ],
   "source": [
    "import statsmodels.api as sm\n",
    "import matplotlib.pyplot as plt\n",
    "\n",
    "fig = sm.qqplot(np.log(active_accounts.views), line='q')\n",
    "plt.title('QQ-Plot von log(Views) von aktiven Accounts')\n",
    "plt.show()"
   ]
  },
  {
   "cell_type": "markdown",
   "metadata": {},
   "source": [
    "Die Verteilung der Views scheint eine `lognorm`-Verteilung zu sein, mit massiven Aussreissern gegen oben hin (long-tail gegen rechts). Dies sehen wir auch im QQ-Plot von `log(views)`. "
   ]
  },
  {
   "cell_type": "markdown",
   "metadata": {},
   "source": [
    "### Degree Centrality"
   ]
  },
  {
   "cell_type": "code",
   "execution_count": null,
   "metadata": {},
   "outputs": [
    {
     "data": {
      "image/png": "[encoded data removed]",
      "text/plain": [
       "<Figure size 432x288 with 1 Axes>"
      ]
     },
     "metadata": {
      "needs_background": "light"
     },
     "output_type": "display_data"
    }
   ],
   "source": [
    "# Degree Centrality\n",
    "degree_centrality = nx.degree_centrality(G)\n",
    "sns.boxplot(x=list(degree_centrality.values()))\n",
    "plt.title('Boxplot der Degree Centrality von aktiven Accounts')\n",
    "plt.show()"
   ]
  },
  {
   "cell_type": "code",
   "execution_count": null,
   "metadata": {},
   "outputs": [
    {
     "data": {
      "text/plain": [
       "array([0.00096364, 0.06533704])"
      ]
     },
     "execution_count": 33,
     "metadata": {},
     "output_type": "execute_result"
    }
   ],
   "source": [
    "np.quantile(list(degree_centrality.values()), [0.90, 0.9999])"
   ]
  },
  {
   "cell_type": "markdown",
   "metadata": {},
   "source": [
    "Die Degree Centrality zeigt, dass 90% der User mit weniger als 0.0000096% mit anderen User verbunden sind durch gegenseitiges followen. Man sieht aber auch, dass ein User mit mehr als 20% aller User verbunden ist. "
   ]
  },
  {
   "cell_type": "code",
   "execution_count": null,
   "metadata": {},
   "outputs": [
    {
     "data": {
      "text/plain": [
       "[('61862', 0.2098528965636209)]"
      ]
     },
     "execution_count": 34,
     "metadata": {},
     "output_type": "execute_result"
    }
   ],
   "source": [
    "# Find the top 10 nodes with the highest degree centrality\n",
    "sorted_degree_centrality = sorted(degree_centrality.items(), key=lambda x: x[1], reverse=True)\n",
    "sorted_degree_centrality[:1]"
   ]
  },
  {
   "cell_type": "markdown",
   "metadata": {},
   "source": [
    "Wir können schauen, wer das sein könnte."
   ]
  },
  {
   "cell_type": "code",
   "execution_count": null,
   "metadata": {},
   "outputs": [
    {
     "data": {
      "text/html": [
       "<div>\n",
       "<style scoped>\n",
       "    .dataframe tbody tr th:only-of-type {\n",
       "        vertical-align: middle;\n",
       "    }\n",
       "\n",
       "    .dataframe tbody tr th {\n",
       "        vertical-align: top;\n",
       "    }\n",
       "\n",
       "    .dataframe thead th {\n",
       "        text-align: right;\n",
       "    }\n",
       "</style>\n",
       "<table border=\"1\" class=\"dataframe\">\n",
       "  <thead>\n",
       "    <tr style=\"text-align: right;\">\n",
       "      <th></th>\n",
       "      <th>views</th>\n",
       "      <th>mature</th>\n",
       "      <th>life_time</th>\n",
       "      <th>created_at</th>\n",
       "      <th>updated_at</th>\n",
       "      <th>numeric_id</th>\n",
       "      <th>dead_account</th>\n",
       "      <th>language</th>\n",
       "      <th>affiliate</th>\n",
       "    </tr>\n",
       "  </thead>\n",
       "  <tbody>\n",
       "    <tr>\n",
       "      <th>61862</th>\n",
       "      <td>340602050</td>\n",
       "      <td>False</td>\n",
       "      <td>2826</td>\n",
       "      <td>2011-01-16</td>\n",
       "      <td>2018-10-12</td>\n",
       "      <td>61862</td>\n",
       "      <td>False</td>\n",
       "      <td>EN</td>\n",
       "      <td>False</td>\n",
       "    </tr>\n",
       "  </tbody>\n",
       "</table>\n",
       "</div>"
      ],
      "text/plain": [
       "           views  mature  life_time created_at updated_at numeric_id  \\\n",
       "61862  340602050   False       2826 2011-01-16 2018-10-12      61862   \n",
       "\n",
       "       dead_account language  affiliate  \n",
       "61862         False       EN      False  "
      ]
     },
     "execution_count": 35,
     "metadata": {},
     "output_type": "execute_result"
    }
   ],
   "source": [
    "features[features.numeric_id=='61862']"
   ]
  },
  {
   "cell_type": "markdown",
   "metadata": {},
   "source": [
    "[Ninja](https://twitchtracker.com/ninja) hat seinen Account am 16.1.2011 erstellt und er ist einer der meistgeschauten Streamer auf Twitch. Man kann also annehmen, dass er `61862` ist."
   ]
  },
  {
   "cell_type": "code",
   "execution_count": null,
   "metadata": {},
   "outputs": [
    {
     "name": "stdout",
     "output_type": "stream",
     "text": [
      "Node: 61862, Degree: 0.2098528965636209\n",
      "Number of neighbors: 35279\n"
     ]
    }
   ],
   "source": [
    "# Get number of neighbor for Ninja (most connected node)\n",
    "for node, degree in sorted_degree_centrality[:1]:\n",
    "    print(f'Node: {node}, Degree: {degree}')\n",
    "    # Number of neighbor\n",
    "    print(f'Number of neighbors: {G.degree(node)}')"
   ]
  },
  {
   "cell_type": "markdown",
   "metadata": {},
   "source": [
    "Dies ist schon erstaunlich. Kann dies wirklich sein, dass Ninja 20% der User auf Twitch folgt (35279 User)? Vielleicht bedeutet `mutual relationship` etwas anderes? Zitat aus dem Paper von Twitch Gamers:\n",
    "```\n",
    "Mutual relationships. We discarded relationships which\n",
    "are asymmetric and only included mutual edges in the re-\n",
    "leased dataset.\n",
    "```\n",
    "Ich bin mir unsicher. Es kann ja nicht sein, dass `Ninja` 20% der User auf Twitch folgt. \n",
    "\n",
    "Andererseits schauen wir uns in diesem Datensatz ja nicht ganz Twitch an, sondern nur ein Subset. Auf [TwitchTracker](https://twitchtracker.com/statistics) sehen wir, dass es in 2018 im Schnitt 1.08 Millionen Zuschauer gab. Somit schauen wir uns mit 168'114 Knoten auch nur einen Bruchteil von Twitch an. "
   ]
  },
  {
   "cell_type": "code",
   "execution_count": null,
   "metadata": {},
   "outputs": [
    {
     "name": "stdout",
     "output_type": "stream",
     "text": [
      "Node: 131422, Degree: 5.948379958718243e-06\n",
      "Number of neighbors: 1\n",
      "Node: 102494, Degree: 5.948379958718243e-06\n",
      "Number of neighbors: 1\n",
      "Node: 157597, Degree: 5.948379958718243e-06\n",
      "Number of neighbors: 1\n",
      "Node: 128281, Degree: 5.948379958718243e-06\n",
      "Number of neighbors: 1\n",
      "Node: 118034, Degree: 5.948379958718243e-06\n",
      "Number of neighbors: 1\n"
     ]
    }
   ],
   "source": [
    "# Get number of neighbor for nodes with the least degree centrality\n",
    "for node, degree in sorted_degree_centrality[-5:]:\n",
    "    print(f'Node: {node}, Degree: {degree}')\n",
    "    # Number of neighbor\n",
    "    print(f'Number of neighbors: {G.degree(node)}')"
   ]
  },
  {
   "cell_type": "markdown",
   "metadata": {},
   "source": [
    "Somit haben wir in unserem Datensatz nur User mit:\n",
    "- mindestens einer Kante (gegenseitiges folgen).\n",
    "- sind vom User `lowko` über ein Schneeball-System erreichbar.\n",
    "\n",
    "Es kann also wirklich sein, dass `Ninja` 20% von diesem Subset folgt."
   ]
  },
  {
   "cell_type": "markdown",
   "metadata": {},
   "source": [
    "### Degrees"
   ]
  },
  {
   "cell_type": "code",
   "execution_count": 169,
   "metadata": {},
   "outputs": [
    {
     "data": {
      "image/png": "[encoded data removed]",
      "text/plain": [
       "<Figure size 432x288 with 1 Axes>"
      ]
     },
     "metadata": {
      "needs_background": "light"
     },
     "output_type": "display_data"
    }
   ],
   "source": [
    "degree = nx.degree_histogram(G)[:1000]\n",
    "plt.bar(x=range(len(degree)), height=degree)\n",
    "plt.title('Degree Histogram')\n",
    "plt.xlabel('Degree')\n",
    "plt.ylabel('Count')\n",
    "plt.show()"
   ]
  },
  {
   "cell_type": "markdown",
   "metadata": {},
   "source": [
    "Die Verteilung der Anzahl der Degrees sieht sehr exponential aus."
   ]
  },
  {
   "cell_type": "markdown",
   "metadata": {},
   "source": [
    "### Korrelation Degree und Views\n",
    "Hat ein User mit vielen Kanten mehr Views?"
   ]
  },
  {
   "cell_type": "code",
   "execution_count": 134,
   "metadata": {},
   "outputs": [
    {
     "data": {
      "text/html": [
       "<div>\n",
       "<style scoped>\n",
       "    .dataframe tbody tr th:only-of-type {\n",
       "        vertical-align: middle;\n",
       "    }\n",
       "\n",
       "    .dataframe tbody tr th {\n",
       "        vertical-align: top;\n",
       "    }\n",
       "\n",
       "    .dataframe thead th {\n",
       "        text-align: right;\n",
       "    }\n",
       "</style>\n",
       "<table border=\"1\" class=\"dataframe\">\n",
       "  <thead>\n",
       "    <tr style=\"text-align: right;\">\n",
       "      <th></th>\n",
       "      <th>numeric_id</th>\n",
       "      <th>degree</th>\n",
       "    </tr>\n",
       "  </thead>\n",
       "  <tbody>\n",
       "    <tr>\n",
       "      <th>0</th>\n",
       "      <td>98343</td>\n",
       "      <td>39</td>\n",
       "    </tr>\n",
       "    <tr>\n",
       "      <th>1</th>\n",
       "      <td>141493</td>\n",
       "      <td>4456</td>\n",
       "    </tr>\n",
       "    <tr>\n",
       "      <th>2</th>\n",
       "      <td>58736</td>\n",
       "      <td>420</td>\n",
       "    </tr>\n",
       "    <tr>\n",
       "      <th>3</th>\n",
       "      <td>140703</td>\n",
       "      <td>242</td>\n",
       "    </tr>\n",
       "    <tr>\n",
       "      <th>4</th>\n",
       "      <td>151401</td>\n",
       "      <td>235</td>\n",
       "    </tr>\n",
       "  </tbody>\n",
       "</table>\n",
       "</div>"
      ],
      "text/plain": [
       "  numeric_id  degree\n",
       "0      98343      39\n",
       "1     141493    4456\n",
       "2      58736     420\n",
       "3     140703     242\n",
       "4     151401     235"
      ]
     },
     "execution_count": 134,
     "metadata": {},
     "output_type": "execute_result"
    }
   ],
   "source": [
    "id_degree_df = pd.DataFrame(G.degree(), columns=['numeric_id', 'degree'])\n",
    "id_degree_df.head(5)"
   ]
  },
  {
   "cell_type": "code",
   "execution_count": 216,
   "metadata": {},
   "outputs": [],
   "source": [
    "try:\n",
    "    features.drop(columns=['degree_x', 'degree_y'], inplace=True)\n",
    "    features = pd.merge(features, id_degree_df, on='numeric_id')\n",
    "except:\n",
    "    features = pd.merge(features, id_degree_df, on='numeric_id')"
   ]
  },
  {
   "cell_type": "code",
   "execution_count": 217,
   "metadata": {},
   "outputs": [
    {
     "data": {
      "image/png": "[encoded data removed]",
      "text/plain": [
       "<Figure size 432x288 with 1 Axes>"
      ]
     },
     "metadata": {
      "needs_background": "light"
     },
     "output_type": "display_data"
    }
   ],
   "source": [
    "plt.scatter(features['degree'], features['views'])\n",
    "plt.xlabel('Degree')\n",
    "plt.ylabel('Views')\n",
    "plt.title('Scatterplot von Degree und Views')\n",
    "plt.show()"
   ]
  },
  {
   "cell_type": "code",
   "execution_count": 226,
   "metadata": {},
   "outputs": [
    {
     "name": "stdout",
     "output_type": "stream",
     "text": [
      "Pearson Korrelation von degree und views: 0.650\n"
     ]
    }
   ],
   "source": [
    "p_corr = np.corrcoef(features.views, features.degree)[1,0]\n",
    "print(f'Pearson Korrelation von degree und views: {p_corr:.3f}')"
   ]
  },
  {
   "cell_type": "code",
   "execution_count": 149,
   "metadata": {},
   "outputs": [
    {
     "name": "stdout",
     "output_type": "stream",
     "text": [
      "Pearson Korrelation von degree und views: 0.514\n"
     ]
    }
   ],
   "source": [
    "from scipy.stats import spearmanr\n",
    "print(f'Spearman Korrelation von degree und views: {spearmanr(features.views, features.degree)[0]:.3f}')"
   ]
  },
  {
   "cell_type": "markdown",
   "metadata": {},
   "source": [
    "Wieder etwas interessantes gelernt. Laut [StackExchange](https://stats.stackexchange.com/questions/27127/what-does-it-indicate-when-the-spearman-correlation-is-a-definite-amount-less-th) ist die Spearman Korrelation niedriger als die Pearson Korrelation, falls die Rank-Korrelation niedriger ist als die Lineare-Korrelation. Das kann passieren, falls es extreme Ausreisser gibt / einen langen Longtail. Dies ist bei uns der Fall. \n",
    "#### Permutationstest\n",
    "Mit einem Permutationstest können wir schauen, ob diese Pearson Korrelation nur Zufall ist. Wir wählen als `alpha` 0.05. Unsere Nullhypothese ist, dass der `degree` und die Anzahl Views nicht linear miteinander korrelieren. Die Alternativhypothese ist, dass sie miteinander korrelieren."
   ]
  },
  {
   "cell_type": "code",
   "execution_count": 230,
   "metadata": {},
   "outputs": [],
   "source": [
    "N_TESTS = 1000\n",
    "\n",
    "p_corrs = []\n",
    "corr_same_or_above = 0\n",
    "for i in range(N_TESTS):\n",
    "    views = features.views.sample(frac=1, replace=False, random_state=i)\n",
    "    p_corrs.append(np.corrcoef(views, features.degree)[1,0])\n",
    "    if p_corrs[-1] > p_corr:\n",
    "        corr_same_or_above += 1"
   ]
  },
  {
   "cell_type": "code",
   "execution_count": 233,
   "metadata": {},
   "outputs": [
    {
     "name": "stdout",
     "output_type": "stream",
     "text": [
      "p-Wert von Pearson: 0.0\n"
     ]
    }
   ],
   "source": [
    "print(f'p-Wert von Pearson: {corr_same_or_above/N_TESTS}')"
   ]
  },
  {
   "cell_type": "markdown",
   "metadata": {},
   "source": [
    "Da der p-Wert kleiner ist als unser `alpha`, verwerfen wir die Nullhypothese und schätzen die Korrelation zwischen Knoten-Degree und Anzahl Views als signifikant ein. "
   ]
  },
  {
   "cell_type": "markdown",
   "metadata": {},
   "source": [
    "### Reichweite maximieren, Kosten minimieren\n",
    "Für unsere fiktive Werbung möchten wir ein möglichst weites Publikum für möglichst kleines Geld erreichen. Es lässt sich also Annehmen, dass neue Streamer mit eher wenig Views günstiger zu kaufen sind und das Streamer mit vielen Kanten eine grosse Reichweite haben. Somit sollten wir folgendes optimieren:\n",
    "- Degrees maximieren mit Hilfe von Knoten, welche keine oder nur wenig, gleiche Nachbarn haben\n",
    "- Totale Anzahl Views minimieren.\n",
    "\n",
    "Da die lineare Korrelation mit 0.650 nicht perfekt ist, können wir einen Algorithmus dafür entwickeln."
   ]
  },
  {
   "cell_type": "code",
   "execution_count": null,
   "metadata": {},
   "outputs": [],
   "source": [
    "# Feedback: Gute kommentare, gedanken ausschreiben.\n",
    "# User finden, welche zusammen eine grosse reichweite finden und weniger als x views haben (da zu teuer). Welche Gruppe ergäntzt eine andere am besten ? -> Nach Degree nach unten gehen -> GGf von hinten anfangen? -> Alle weiter unten sind eh wenig views. \n",
    "# Erst wenn weniger als x views\n",
    "# Group centrality. \n",
    "# \"Kern finden\"-> viele views, gegenseitiges followen.\n",
    "# Degree  und views permuationstest + affiliate."
   ]
  }
 ],
 "metadata": {
  "interpreter": {
   "hash": "f2434778dac096c16cab11d7ff844b43ecccf62bf80c2109175841e5bc87a9d4"
  },
  "kernelspec": {
   "display_name": "Python 3.9.12 ('SAN')",
   "language": "python",
   "name": "python3"
  },
  "language_info": {
   "codemirror_mode": {
    "name": "ipython",
    "version": 3
   },
   "file_extension": ".py",
   "mimetype": "text/x-python",
   "name": "python",
   "nbconvert_exporter": "python",
   "pygments_lexer": "ipython3",
   "version": "3.9.12"
  },
  "orig_nbformat": 4
 },
 "nbformat": 4,
 "nbformat_minor": 2
}
